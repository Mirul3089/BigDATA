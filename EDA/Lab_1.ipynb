{
 "cells": [
  {
   "cell_type": "markdown",
   "metadata": {},
   "source": [
    "<div align=\"right\">Python 3.7 Jupyter Notebook</div>"
   ]
  },
  {
   "cell_type": "markdown",
   "metadata": {},
   "source": [
    "# Getting started with notebooks\n",
    "## Anaconda: Jupyter and Python"
   ]
  },
  {
   "cell_type": "markdown",
   "metadata": {},
   "source": [
    "> **<span style=\"color:red\"> This notebook is graded </span>** It serves as an introduction to the notebooks that you will use throughout the rest of the course. COMPLETION of task as per the instruction required for full marks. Part marks will not be provided.\n",
    "\n"
   ]
  },
  {
   "cell_type": "markdown",
   "metadata": {},
   "source": [
    "# Introduction"
   ]
  },
  {
   "cell_type": "markdown",
   "metadata": {},
   "source": [
    "This notebook will introduce the concept of interactive notebooks to those who are unfamiliar with it. Your have to install and run Python 3.7 or 3.8 and anaconda. As the course progresses you will be required to install some packages that are relevant to the course, but not present in the default set of packages from Anaconda. \n",
    "\n"
   ]
  },
  {
   "cell_type": "markdown",
   "metadata": {},
   "source": [
    "# a. What is a jupyter notebook?"
   ]
  },
  {
   "cell_type": "markdown",
   "metadata": {},
   "source": [
    "[Jupyter Notebooks](http://jupyter-notebook.readthedocs.io/en/latest/notebook.html) are series of IPython (interactive shell command line program) documents that are designed to be easily read by both humans and computers. \n",
    "\n",
    "Like a typical ipython notebook this program supports descriptions and analyses, as well as executable code. You can share your code with others and communicate your process and results with technical to non-technical audiences. Jupyter Notebooks provide a web-based application that can capture the whole programming process: developing - documenting - executing code, and finally communicating the results.\n"
   ]
  },
  {
   "cell_type": "markdown",
   "metadata": {},
   "source": [
    "## 1.1 Executing your first Python code in a Jupyter Notebook\n",
    "In the toolbar at the top of the notebook you have the option to change the type of cells. The two types that you will use frequently are \"code\" and \"markdown\" cells. Code cells are used to execute code and markdown cells are used to display formatted text.\n",
    "\n",
    "When starting with a new programming language, the first example usually begins with outputting the text \"hello world\".\n",
    "\n",
    "<br>\n",
    "<div class=\"alert alert-warning\">\n",
    "<b>Try this</b><br>\n",
    "Select the code cell below (shaded in grey) and press the ▶ (run cell) button in the toolbar above to run it.<br>\n",
    "Alternatively, you can use the \"shift + enter\" shortcut command to run the cell.\n",
    "</div>"
   ]
  },
  {
   "cell_type": "code",
   "execution_count": null,
   "metadata": {},
   "outputs": [],
   "source": [
    "print (\"hello world\")"
   ]
  },
  {
   "cell_type": "markdown",
   "metadata": {},
   "source": [
    "## 1.2 Basics\n",
    "This section will demonstrate basic notebook commands. You will be provided with additional references that you can explore in your own time, should you be interested in doing so.\n",
    "\n",
    "\n",
    "\n",
    "\n",
    "### 1.2.1 Performing calculations\n",
    "While it is possible to perform direct calculations, such as those shown in the cell below, you would typically assign the output (of a calculation) to variables for reuse in subsequent calculations or functions. \n",
    "<br><br>\n",
    "<div class=\"alert alert-warning\">\n",
    "<b>Execute the code cell below.</b><br>\n",
    "You will be provided with template notebooks where you need to execute the cells in sequence. Although this note will not be repeated in all cells, you can execute or run the code cells as demonstrated in the \"hello world\" example above.\n",
    "</div>"
   ]
  },
  {
   "cell_type": "code",
   "execution_count": null,
   "metadata": {},
   "outputs": [],
   "source": [
    "2 + 2"
   ]
  },
  {
   "cell_type": "markdown",
   "metadata": {},
   "source": [
    "### 1.2.2 Assigning the output of a calculation to a variable"
   ]
  },
  {
   "cell_type": "code",
   "execution_count": 10,
   "metadata": {},
   "outputs": [],
   "source": [
    "# Assign any value to variable a and variable b.\n",
    "a = \n",
    "b = "
   ]
  },
  {
   "cell_type": "code",
   "execution_count": 11,
   "metadata": {},
   "outputs": [],
   "source": [
    "# Assign the value of the product of a and b to the variable c.\n",
    "c = a * b"
   ]
  },
  {
   "cell_type": "code",
   "execution_count": null,
   "metadata": {},
   "outputs": [],
   "source": [
    "# Print the value of variable c.\n",
    "print (c)"
   ]
  },
  {
   "cell_type": "markdown",
   "metadata": {},
   "source": [
    "### 1.2.3 Printing text\n",
    "Change the value of the variable “yourname”, which is currently set to \"student\", to your name and run the two cells below."
   ]
  },
  {
   "cell_type": "code",
   "execution_count": 13,
   "metadata": {},
   "outputs": [],
   "source": [
    "## Replace the name with your name\n",
    "yourname = \"Sarah\""
   ]
  },
  {
   "cell_type": "code",
   "execution_count": null,
   "metadata": {},
   "outputs": [],
   "source": [
    "print('Hello', yourname)"
   ]
  },
  {
   "cell_type": "markdown",
   "metadata": {},
   "source": [
    "### 1.2.4 Writing code\n",
    "You can use built-in Python functions and write your own functions to make tasks reproducible. The two cells below define a function and then execute it. Run them to see the results."
   ]
  },
  {
   "cell_type": "markdown",
   "metadata": {},
   "source": [
    "> **Note**: \n",
    "\n",
    "> In Module 1, you will be provided with an overview and examples of the Python programming concepts and constructs required to complete this course. For now, this notebook simply includes a sample function without additional explanation."
   ]
  },
  {
   "cell_type": "code",
   "execution_count": 2,
   "metadata": {},
   "outputs": [],
   "source": [
    "# Create a function that prints ten numbers.\n",
    "\n",
    "def print_10_nums():\n",
    "    for i in range(10):\n",
    "        \n",
    "        print (i)"
   ]
  },
  {
   "cell_type": "code",
   "execution_count": null,
   "metadata": {},
   "outputs": [],
   "source": [
    "# Execute your function.\n",
    "print_10_nums()"
   ]
  },
  {
   "cell_type": "markdown",
   "metadata": {},
   "source": [
    "### 1.2.5 Adding comments to your code\n",
    "It is good practice to add comments to your code. This makes it easier for others to interpret your code. It can also help you to understand your own intentions and processes when revisiting notebooks at a later stage. Comments can be added by starting the line with the # symbol."
   ]
  },
  {
   "cell_type": "code",
   "execution_count": null,
   "metadata": {},
   "outputs": [],
   "source": [
    "# Set a new variable, d, equal to an number of your choice and print the variable.\n",
    "\n",
    "\n",
    "# print the value of variable d\n"
   ]
  },
  {
   "cell_type": "markdown",
   "metadata": {},
   "source": [
    "### 1.2.6 Help and autocomplete\n",
    "You will be introduced to packages and libraries in subsequent modules. These contain reusable code where you can “call” repeatable functions instead of manually writing code or creating your own functions. To load a package or library, you first need to ensure that it has been installed. Then you may import and finally use the package.\n",
    "\n",
    "You can execute the cell below to check whether a package has been installed on your system."
   ]
  },
  {
   "cell_type": "code",
   "execution_count": null,
   "metadata": {},
   "outputs": [],
   "source": [
    "# Check whether Pandas is installed.\n",
    "# Import system configuration.\n",
    "import sys\n",
    "\n",
    "# Check whether Numpy package is available in system.\n",
    "'numpy' in sys.modules"
   ]
  },
  {
   "cell_type": "code",
   "execution_count": null,
   "metadata": {},
   "outputs": [],
   "source": [
    "If you need to display a package’s help function, you can execute the following command:"
   ]
  },
  {
   "cell_type": "code",
   "execution_count": null,
   "metadata": {
    "collapsed": true
   },
   "outputs": [],
   "source": [
    "help('pandas')"
   ]
  },
  {
   "cell_type": "markdown",
   "metadata": {},
   "source": [
    "If you know that a package has been installed, or you have checked that it exists, you can import it to make it available for you to use in your notebook. You should be able to execute the cell below without errors if the package is available to your notebook. The selected package is part of the standard packages installed with the Anaconda Python distribution and will complete without errors.\n",
    "\n",
    "> **Note**:\n",
    "\n",
    "> You have to import the packages that you use for every notebook that you work on. It is good practice to load the packages once, close to the top of the notebook, prior to executing code. Same as importing library files in Java / C / C++ whatever is your programming domain. But for now lets import the package here for practice. We will learn more about these packages in lectures and future labs."
   ]
  },
  {
   "cell_type": "code",
   "execution_count": null,
   "metadata": {},
   "outputs": [],
   "source": [
    "# Import Pandas.\n",
    "import pandas as pd"
   ]
  },
  {
   "cell_type": "markdown",
   "metadata": {},
   "source": [
    "You can also display the help function by using the ? symbol."
   ]
  },
  {
   "cell_type": "code",
   "execution_count": 22,
   "metadata": {},
   "outputs": [],
   "source": [
    "# Display the help for the library imported.\n",
    "pd?"
   ]
  },
  {
   "cell_type": "markdown",
   "metadata": {},
   "source": [
    "Autocomplete can be used to display information about the package as well as the libraries contained in the package. \n",
    "\n",
    "1) Place your cursor after the full stop in the cell below, and press \"Shift+Tab\" once. What do you see? _______________________________________ (Please fill in this blank)\n",
    "\n",
    "2) Pressing \"Shift+Tab\" a second time will display the libraries available in the package."
   ]
  },
  {
   "cell_type": "markdown",
   "metadata": {},
   "source": [
    "<div class=\"alert alert-warning\">\n",
    "<b>Note</b>:<br>\n",
    "The cells below will produce an error if executed. Here, the intention is to demonstrate autocomplete. Please follow the instructions below.\n",
    "</div>"
   ]
  },
  {
   "cell_type": "code",
   "execution_count": null,
   "metadata": {
    "collapsed": true
   },
   "outputs": [],
   "source": [
    "pd."
   ]
  },
  {
   "cell_type": "code",
   "execution_count": null,
   "metadata": {
    "collapsed": true
   },
   "outputs": [],
   "source": [
    "# Use autocomplete to see the availble input parameters.\n",
    "pd.read_csv("
   ]
  },
  {
   "cell_type": "markdown",
   "metadata": {},
   "source": [
    "<div class=\"alert alert-warning\">\n",
    "<b>Note</b>:<br>Please ensure you attempt every code cell in Section 2. For the rest of your lab sessions you will not get help with these basic contents if you choose to skip the WORKING with Notebooks Section</span>\n"
   ]
  },
  {
   "cell_type": "markdown",
   "metadata": {},
   "source": [
    "# 2. Working with notebooks\n",
    "This section will introduce some of the basics you will require when working with your notebooks throughout the course.\n",
    "\n",
    "## 2.1 Navigating the Jupyter interface\n",
    "When you are in a notebook such as this one, you can click on the \"Jupyter\" logo at the top left-hand corner of the screen to return to the directory view. The autosave function will save content periodically, but make sure to select \"File\" and \"Save and Checkpoint\" from the menu at the top of the screen, if there are any changes that you wish to save."
   ]
  },
  {
   "cell_type": "markdown",
   "metadata": {},
   "source": [
    "## 2.2 Creating notebooks\n",
    "Once in the directory view, you can navigate to the required folder and select \"New\" and \"Python notebook\" at the top right-hand corner of the screen to create a new notebook. You can rename notebooks from the directory view or while in the actual notebook (by selecting the notebook name at the top of the screen).\n",
    "\n",
    "> **Navigate to your Folder tab in firefox to view this**"
   ]
  },
  {
   "cell_type": "markdown",
   "metadata": {},
   "source": [
    "## 2.3 Shutting down notebooks\n",
    "<br>\n",
    "<div class=\"alert alert-warning\">\n",
    "<b>Note</b>:<br>\n",
    "You will often have multiple notebooks running at the same time, but it is good practice to shut down notebooks that are not in use. This is because you typically have limited resources on the machine hosting your notebooks or pay for the amount of cloud resources that you consume. Shutting down notebooks that are not in use frees up resources for computational purposes, which enables improved user experience and results in fewer expenses when hosted on cloud environments.\n",
    "</div>\n",
    "\n",
    "You can shut down notebooks in a number of ways. The first way is to select \"File\" and then \"Close and Halt\" (in the drop-down menu) from within the running notebook. The second, recommended way is to navigate to your directory view by selecting the Jupyter logo or switching to a window in which the directory is already open. Then, select the \"Running\" tab at the top of the screen and shut down all unnecessary notebooks by selecting the \"Shutdown\" option on the right of the screen (above the notebooks).\n",
    "\n",
    "> When starting a session, it is recommended that you review all of the notebooks that are currently running, and shut down those not in use. Before leaving, or logging out of, your environment, revisit the “Running” tab on your directory view, and shut down all of the notebooks."
   ]
  },
  {
   "cell_type": "markdown",
   "metadata": {},
   "source": [
    "# 3. Additional resources\n",
    "\n",
    "> **Python**:\n",
    "\n",
    "> [Python for beginners](https://www.python.org/about/gettingstarted/)\n",
    "\n",
    "> [Code Academy: Learn to program Python](https://www.codecademy.com/learn/python)\n"
   ]
  },
  {
   "cell_type": "markdown",
   "metadata": {},
   "source": [
    "# 5. References\n",
    "Continuum Analytics. 2017. “Open Data Science | Continuum.” Accessed Jan 14. https://www.anaconda.com/open-data-science/"
   ]
  },
  {
   "cell_type": "markdown",
   "metadata": {},
   "source": [
    "> **Note**: Ensure that you keep a safe copy of all the notebooks that you change."
   ]
  }
 ],
 "metadata": {
  "anaconda-cloud": {},
  "kernelspec": {
   "display_name": "Python 3 (ipykernel)",
   "language": "python",
   "name": "python3"
  },
  "language_info": {
   "codemirror_mode": {
    "name": "ipython",
    "version": 3
   },
   "file_extension": ".py",
   "mimetype": "text/x-python",
   "name": "python",
   "nbconvert_exporter": "python",
   "pygments_lexer": "ipython3",
   "version": "3.9.7"
  }
 },
 "nbformat": 4,
 "nbformat_minor": 1
}
