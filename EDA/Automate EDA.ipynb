{
 "cells": [
  {
   "cell_type": "markdown",
   "id": "2963a896",
   "metadata": {},
   "source": [
    "## Author : Mirul Patel\n",
    "--> Automated EDA techniques"
   ]
  },
  {
   "cell_type": "code",
   "execution_count": 1,
   "id": "f532074a",
   "metadata": {},
   "outputs": [
    {
     "name": "stdout",
     "output_type": "stream",
     "text": [
      "Collecting pandas_profiling\n",
      "  Downloading pandas_profiling-3.6.6-py2.py3-none-any.whl (324 kB)\n",
      "Collecting ydata-profiling\n",
      "  Downloading ydata_profiling-4.2.0-py2.py3-none-any.whl (352 kB)\n",
      "Requirement already satisfied: seaborn<0.13,>=0.10.1 in c:\\users\\mirul\\anaconda3\\lib\\site-packages (from ydata-profiling->pandas_profiling) (0.11.2)\n",
      "Requirement already satisfied: tqdm<5,>=4.48.2 in c:\\users\\mirul\\anaconda3\\lib\\site-packages (from ydata-profiling->pandas_profiling) (4.62.3)\n",
      "Collecting visions[type_image_path]==0.7.5\n",
      "  Downloading visions-0.7.5-py3-none-any.whl (102 kB)\n",
      "Requirement already satisfied: numpy<1.24,>=1.16.0 in c:\\users\\mirul\\anaconda3\\lib\\site-packages (from ydata-profiling->pandas_profiling) (1.20.3)\n",
      "Collecting imagehash==4.3.1\n",
      "  Downloading ImageHash-4.3.1-py2.py3-none-any.whl (296 kB)\n",
      "Requirement already satisfied: matplotlib<4,>=3.2 in c:\\users\\mirul\\anaconda3\\lib\\site-packages (from ydata-profiling->pandas_profiling) (3.4.3)\n",
      "Collecting multimethod<2,>=1.4\n",
      "  Downloading multimethod-1.9.1-py3-none-any.whl (10 kB)\n",
      "Collecting typeguard<3,>=2.13.2\n",
      "  Downloading typeguard-2.13.3-py3-none-any.whl (17 kB)\n",
      "Requirement already satisfied: scipy<1.11,>=1.4.1 in c:\\users\\mirul\\anaconda3\\lib\\site-packages (from ydata-profiling->pandas_profiling) (1.7.1)\n",
      "Collecting htmlmin==0.1.12\n",
      "  Downloading htmlmin-0.1.12.tar.gz (19 kB)\n",
      "Requirement already satisfied: PyYAML<6.1,>=5.0.0 in c:\\users\\mirul\\anaconda3\\lib\\site-packages (from ydata-profiling->pandas_profiling) (6.0)\n",
      "Collecting wordcloud>=1.9.1\n",
      "  Downloading wordcloud-1.9.2-cp39-cp39-win_amd64.whl (153 kB)\n",
      "Collecting dacite>=1.8\n",
      "  Downloading dacite-1.8.1-py3-none-any.whl (14 kB)\n",
      "Requirement already satisfied: jinja2<3.2,>=2.11.1 in c:\\users\\mirul\\anaconda3\\lib\\site-packages (from ydata-profiling->pandas_profiling) (2.11.3)\n",
      "Collecting pydantic<2,>=1.8.1\n",
      "  Downloading pydantic-1.10.8-cp39-cp39-win_amd64.whl (2.2 MB)\n",
      "Collecting phik<0.13,>=0.11.1\n",
      "  Downloading phik-0.12.3-cp39-cp39-win_amd64.whl (663 kB)\n",
      "Requirement already satisfied: pandas!=1.4.0,<2,>1.1 in c:\\users\\mirul\\anaconda3\\lib\\site-packages (from ydata-profiling->pandas_profiling) (1.3.4)\n",
      "Requirement already satisfied: requests<3,>=2.24.0 in c:\\users\\mirul\\anaconda3\\lib\\site-packages (from ydata-profiling->pandas_profiling) (2.26.0)\n",
      "Collecting statsmodels<1,>=0.13.2\n",
      "  Downloading statsmodels-0.14.0-cp39-cp39-win_amd64.whl (9.4 MB)\n",
      "Requirement already satisfied: PyWavelets in c:\\users\\mirul\\anaconda3\\lib\\site-packages (from imagehash==4.3.1->ydata-profiling->pandas_profiling) (1.1.1)\n",
      "Requirement already satisfied: pillow in c:\\users\\mirul\\anaconda3\\lib\\site-packages (from imagehash==4.3.1->ydata-profiling->pandas_profiling) (8.4.0)\n",
      "Collecting tangled-up-in-unicode>=0.0.4\n",
      "  Downloading tangled_up_in_unicode-0.2.0-py3-none-any.whl (4.7 MB)\n",
      "Requirement already satisfied: networkx>=2.4 in c:\\users\\mirul\\anaconda3\\lib\\site-packages (from visions[type_image_path]==0.7.5->ydata-profiling->pandas_profiling) (2.6.3)\n",
      "Requirement already satisfied: attrs>=19.3.0 in c:\\users\\mirul\\anaconda3\\lib\\site-packages (from visions[type_image_path]==0.7.5->ydata-profiling->pandas_profiling) (21.2.0)\n",
      "Requirement already satisfied: MarkupSafe>=0.23 in c:\\users\\mirul\\anaconda3\\lib\\site-packages (from jinja2<3.2,>=2.11.1->ydata-profiling->pandas_profiling) (1.1.1)\n",
      "Requirement already satisfied: pyparsing>=2.2.1 in c:\\users\\mirul\\anaconda3\\lib\\site-packages (from matplotlib<4,>=3.2->ydata-profiling->pandas_profiling) (3.0.4)\n",
      "Requirement already satisfied: cycler>=0.10 in c:\\users\\mirul\\anaconda3\\lib\\site-packages (from matplotlib<4,>=3.2->ydata-profiling->pandas_profiling) (0.10.0)\n",
      "Requirement already satisfied: kiwisolver>=1.0.1 in c:\\users\\mirul\\anaconda3\\lib\\site-packages (from matplotlib<4,>=3.2->ydata-profiling->pandas_profiling) (1.3.1)\n",
      "Requirement already satisfied: python-dateutil>=2.7 in c:\\users\\mirul\\anaconda3\\lib\\site-packages (from matplotlib<4,>=3.2->ydata-profiling->pandas_profiling) (2.8.2)\n",
      "Requirement already satisfied: six in c:\\users\\mirul\\anaconda3\\lib\\site-packages (from cycler>=0.10->matplotlib<4,>=3.2->ydata-profiling->pandas_profiling) (1.16.0)\n",
      "Requirement already satisfied: pytz>=2017.3 in c:\\users\\mirul\\anaconda3\\lib\\site-packages (from pandas!=1.4.0,<2,>1.1->ydata-profiling->pandas_profiling) (2021.3)\n",
      "Requirement already satisfied: joblib>=0.14.1 in c:\\users\\mirul\\anaconda3\\lib\\site-packages (from phik<0.13,>=0.11.1->ydata-profiling->pandas_profiling) (1.1.0)\n",
      "Collecting typing-extensions>=4.2.0\n",
      "  Downloading typing_extensions-4.6.2-py3-none-any.whl (31 kB)\n",
      "Requirement already satisfied: urllib3<1.27,>=1.21.1 in c:\\users\\mirul\\anaconda3\\lib\\site-packages (from requests<3,>=2.24.0->ydata-profiling->pandas_profiling) (1.26.7)\n",
      "Requirement already satisfied: idna<4,>=2.5 in c:\\users\\mirul\\anaconda3\\lib\\site-packages (from requests<3,>=2.24.0->ydata-profiling->pandas_profiling) (3.2)\n",
      "Requirement already satisfied: certifi>=2017.4.17 in c:\\users\\mirul\\anaconda3\\lib\\site-packages (from requests<3,>=2.24.0->ydata-profiling->pandas_profiling) (2021.10.8)\n",
      "Requirement already satisfied: charset-normalizer~=2.0.0 in c:\\users\\mirul\\anaconda3\\lib\\site-packages (from requests<3,>=2.24.0->ydata-profiling->pandas_profiling) (2.0.4)\n",
      "Requirement already satisfied: patsy>=0.5.2 in c:\\users\\mirul\\anaconda3\\lib\\site-packages (from statsmodels<1,>=0.13.2->ydata-profiling->pandas_profiling) (0.5.2)\n",
      "Collecting packaging>=21.3\n",
      "  Downloading packaging-23.1-py3-none-any.whl (48 kB)\n",
      "Requirement already satisfied: colorama in c:\\users\\mirul\\anaconda3\\lib\\site-packages (from tqdm<5,>=4.48.2->ydata-profiling->pandas_profiling) (0.4.4)\n",
      "Building wheels for collected packages: htmlmin\n",
      "  Building wheel for htmlmin (setup.py): started\n",
      "  Building wheel for htmlmin (setup.py): finished with status 'done'\n",
      "  Created wheel for htmlmin: filename=htmlmin-0.1.12-py3-none-any.whl size=27098 sha256=e6eb21c1c6d137a259695cfc5ebeec049e04fc2ea076c376ba0b4e877cdba2b6\n",
      "  Stored in directory: c:\\users\\mirul\\appdata\\local\\pip\\cache\\wheels\\1d\\05\\04\\c6d7d3b66539d9e659ac6dfe81e2d0fd4c1a8316cc5a403300\n",
      "Successfully built htmlmin\n",
      "Installing collected packages: tangled-up-in-unicode, multimethod, visions, typing-extensions, packaging, imagehash, wordcloud, typeguard, statsmodels, pydantic, phik, htmlmin, dacite, ydata-profiling, pandas-profiling\n",
      "  Attempting uninstall: typing-extensions\n",
      "    Found existing installation: typing-extensions 3.10.0.2\n",
      "    Uninstalling typing-extensions-3.10.0.2:\n",
      "      Successfully uninstalled typing-extensions-3.10.0.2\n",
      "  Attempting uninstall: packaging\n",
      "    Found existing installation: packaging 21.0\n",
      "    Uninstalling packaging-21.0:\n",
      "      Successfully uninstalled packaging-21.0\n",
      "  Attempting uninstall: statsmodels\n",
      "    Found existing installation: statsmodels 0.12.2\n",
      "    Uninstalling statsmodels-0.12.2:\n",
      "      Successfully uninstalled statsmodels-0.12.2\n",
      "Successfully installed dacite-1.8.1 htmlmin-0.1.12 imagehash-4.3.1 multimethod-1.9.1 packaging-23.1 pandas-profiling-3.6.6 phik-0.12.3 pydantic-1.10.8 statsmodels-0.14.0 tangled-up-in-unicode-0.2.0 typeguard-2.13.3 typing-extensions-4.6.2 visions-0.7.5 wordcloud-1.9.2 ydata-profiling-4.2.0\n"
     ]
    }
   ],
   "source": [
    "!pip install pandas_profiling"
   ]
  },
  {
   "cell_type": "code",
   "execution_count": 2,
   "id": "29a90a46",
   "metadata": {},
   "outputs": [],
   "source": [
    "import ydata_profiling\n",
    "# generates a profile report from a pandas dataframe to help in EDA (similar to df.describe())"
   ]
  },
  {
   "cell_type": "code",
   "execution_count": 24,
   "id": "dfbe54c4",
   "metadata": {},
   "outputs": [],
   "source": [
    "import seaborn as sns\n",
    "df=sns.load_dataset('tips')"
   ]
  },
  {
   "cell_type": "code",
   "execution_count": 6,
   "id": "7e0e83f5",
   "metadata": {},
   "outputs": [
    {
     "data": {
      "text/html": [
       "<div>\n",
       "<style scoped>\n",
       "    .dataframe tbody tr th:only-of-type {\n",
       "        vertical-align: middle;\n",
       "    }\n",
       "\n",
       "    .dataframe tbody tr th {\n",
       "        vertical-align: top;\n",
       "    }\n",
       "\n",
       "    .dataframe thead th {\n",
       "        text-align: right;\n",
       "    }\n",
       "</style>\n",
       "<table border=\"1\" class=\"dataframe\">\n",
       "  <thead>\n",
       "    <tr style=\"text-align: right;\">\n",
       "      <th></th>\n",
       "      <th>total_bill</th>\n",
       "      <th>tip</th>\n",
       "      <th>sex</th>\n",
       "      <th>smoker</th>\n",
       "      <th>day</th>\n",
       "      <th>time</th>\n",
       "      <th>size</th>\n",
       "    </tr>\n",
       "  </thead>\n",
       "  <tbody>\n",
       "    <tr>\n",
       "      <th>0</th>\n",
       "      <td>16.99</td>\n",
       "      <td>1.01</td>\n",
       "      <td>Female</td>\n",
       "      <td>No</td>\n",
       "      <td>Sun</td>\n",
       "      <td>Dinner</td>\n",
       "      <td>2</td>\n",
       "    </tr>\n",
       "    <tr>\n",
       "      <th>1</th>\n",
       "      <td>10.34</td>\n",
       "      <td>1.66</td>\n",
       "      <td>Male</td>\n",
       "      <td>No</td>\n",
       "      <td>Sun</td>\n",
       "      <td>Dinner</td>\n",
       "      <td>3</td>\n",
       "    </tr>\n",
       "    <tr>\n",
       "      <th>2</th>\n",
       "      <td>21.01</td>\n",
       "      <td>3.50</td>\n",
       "      <td>Male</td>\n",
       "      <td>No</td>\n",
       "      <td>Sun</td>\n",
       "      <td>Dinner</td>\n",
       "      <td>3</td>\n",
       "    </tr>\n",
       "    <tr>\n",
       "      <th>3</th>\n",
       "      <td>23.68</td>\n",
       "      <td>3.31</td>\n",
       "      <td>Male</td>\n",
       "      <td>No</td>\n",
       "      <td>Sun</td>\n",
       "      <td>Dinner</td>\n",
       "      <td>2</td>\n",
       "    </tr>\n",
       "    <tr>\n",
       "      <th>4</th>\n",
       "      <td>24.59</td>\n",
       "      <td>3.61</td>\n",
       "      <td>Female</td>\n",
       "      <td>No</td>\n",
       "      <td>Sun</td>\n",
       "      <td>Dinner</td>\n",
       "      <td>4</td>\n",
       "    </tr>\n",
       "  </tbody>\n",
       "</table>\n",
       "</div>"
      ],
      "text/plain": [
       "   total_bill   tip     sex smoker  day    time  size\n",
       "0       16.99  1.01  Female     No  Sun  Dinner     2\n",
       "1       10.34  1.66    Male     No  Sun  Dinner     3\n",
       "2       21.01  3.50    Male     No  Sun  Dinner     3\n",
       "3       23.68  3.31    Male     No  Sun  Dinner     2\n",
       "4       24.59  3.61  Female     No  Sun  Dinner     4"
      ]
     },
     "execution_count": 6,
     "metadata": {},
     "output_type": "execute_result"
    }
   ],
   "source": [
    "df.head()"
   ]
  },
  {
   "cell_type": "code",
   "execution_count": 7,
   "id": "f4201b02",
   "metadata": {},
   "outputs": [],
   "source": [
    "from ydata_profiling import ProfileReport"
   ]
  },
  {
   "cell_type": "code",
   "execution_count": 8,
   "id": "18acde33",
   "metadata": {},
   "outputs": [],
   "source": [
    "profile=ProfileReport(df,explorative=True,dark_mode=True)"
   ]
  },
  {
   "cell_type": "code",
   "execution_count": 9,
   "id": "6d2504f2",
   "metadata": {},
   "outputs": [
    {
     "data": {
      "application/vnd.jupyter.widget-view+json": {
       "model_id": "07710ba89ef94b85b6ed30452b997ba1",
       "version_major": 2,
       "version_minor": 0
      },
      "text/plain": [
       "Summarize dataset:   0%|          | 0/5 [00:00<?, ?it/s]"
      ]
     },
     "metadata": {},
     "output_type": "display_data"
    },
    {
     "data": {
      "application/vnd.jupyter.widget-view+json": {
       "model_id": "e1499946fbec45bbac036559758603a4",
       "version_major": 2,
       "version_minor": 0
      },
      "text/plain": [
       "Generate report structure:   0%|          | 0/1 [00:00<?, ?it/s]"
      ]
     },
     "metadata": {},
     "output_type": "display_data"
    },
    {
     "data": {
      "application/vnd.jupyter.widget-view+json": {
       "model_id": "ba6affc140cf4818926a9637e1464c0f",
       "version_major": 2,
       "version_minor": 0
      },
      "text/plain": [
       "Render HTML:   0%|          | 0/1 [00:00<?, ?it/s]"
      ]
     },
     "metadata": {},
     "output_type": "display_data"
    },
    {
     "data": {
      "application/vnd.jupyter.widget-view+json": {
       "model_id": "ec3e976c8a76443eafd3054cbbadd9d1",
       "version_major": 2,
       "version_minor": 0
      },
      "text/plain": [
       "Export report to file:   0%|          | 0/1 [00:00<?, ?it/s]"
      ]
     },
     "metadata": {},
     "output_type": "display_data"
    }
   ],
   "source": [
    "profile.to_file('report.html')"
   ]
  },
  {
   "cell_type": "code",
   "execution_count": 12,
   "id": "b5e0f13c",
   "metadata": {},
   "outputs": [
    {
     "name": "stdout",
     "output_type": "stream",
     "text": [
      "Requirement already satisfied: dtale in c:\\users\\mirul\\anaconda3\\lib\\site-packages (2.16.0)\n",
      "Requirement already satisfied: seaborn in c:\\users\\mirul\\anaconda3\\lib\\site-packages (from dtale) (0.11.2)\n",
      "Requirement already satisfied: scipy<=1.9.3 in c:\\users\\mirul\\anaconda3\\lib\\site-packages (from dtale) (1.7.1)\n",
      "Requirement already satisfied: networkx in c:\\users\\mirul\\anaconda3\\lib\\site-packages (from dtale) (2.6.3)\n",
      "Requirement already satisfied: xarray in c:\\users\\mirul\\anaconda3\\lib\\site-packages (from dtale) (2023.5.0)\n",
      "Requirement already satisfied: xlrd in c:\\users\\mirul\\anaconda3\\lib\\site-packages (from dtale) (2.0.1)\n",
      "Requirement already satisfied: six in c:\\users\\mirul\\anaconda3\\lib\\site-packages (from dtale) (1.16.0)\n",
      "Requirement already satisfied: flask-ngrok in c:\\users\\mirul\\anaconda3\\lib\\site-packages (from dtale) (0.0.25)\n",
      "Requirement already satisfied: beautifulsoup4 in c:\\users\\mirul\\anaconda3\\lib\\site-packages (from dtale) (4.10.0)\n",
      "Requirement already satisfied: squarify in c:\\users\\mirul\\anaconda3\\lib\\site-packages (from dtale) (0.4.3)\n",
      "Requirement already satisfied: pandas in c:\\users\\mirul\\anaconda3\\lib\\site-packages (from dtale) (2.0.1)\n",
      "Requirement already satisfied: dash in c:\\users\\mirul\\anaconda3\\lib\\site-packages (from dtale) (2.10.0)\n",
      "Requirement already satisfied: future>=0.14.0 in c:\\users\\mirul\\anaconda3\\lib\\site-packages (from dtale) (0.18.2)\n",
      "Requirement already satisfied: lz4 in c:\\users\\mirul\\anaconda3\\lib\\site-packages (from dtale) (4.3.2)\n",
      "Requirement already satisfied: statsmodels in c:\\users\\mirul\\anaconda3\\lib\\site-packages (from dtale) (0.14.0)\n",
      "Requirement already satisfied: missingno<=0.4.2 in c:\\users\\mirul\\anaconda3\\lib\\site-packages (from dtale) (0.4.2)\n",
      "Requirement already satisfied: cycler in c:\\users\\mirul\\anaconda3\\lib\\site-packages (from dtale) (0.10.0)\n",
      "Requirement already satisfied: plotly in c:\\users\\mirul\\anaconda3\\lib\\site-packages (from dtale) (5.14.1)\n",
      "Requirement already satisfied: itsdangerous in c:\\users\\mirul\\anaconda3\\lib\\site-packages (from dtale) (2.0.1)\n",
      "Requirement already satisfied: et-xmlfile in c:\\users\\mirul\\anaconda3\\lib\\site-packages (from dtale) (1.1.0)\n",
      "Requirement already satisfied: Flask in c:\\users\\mirul\\anaconda3\\lib\\site-packages (from dtale) (1.1.2)\n",
      "Requirement already satisfied: openpyxl!=3.2.0b1 in c:\\users\\mirul\\anaconda3\\lib\\site-packages (from dtale) (3.0.9)\n",
      "Requirement already satisfied: kaleido in c:\\users\\mirul\\anaconda3\\lib\\site-packages (from dtale) (0.2.1)\n",
      "Requirement already satisfied: matplotlib<=3.6.0 in c:\\users\\mirul\\anaconda3\\lib\\site-packages (from dtale) (3.4.3)\n",
      "Requirement already satisfied: strsimpy in c:\\users\\mirul\\anaconda3\\lib\\site-packages (from dtale) (0.2.1)\n",
      "Requirement already satisfied: Flask-Compress in c:\\users\\mirul\\anaconda3\\lib\\site-packages (from dtale) (1.13)\n",
      "Requirement already satisfied: scikit-learn in c:\\users\\mirul\\anaconda3\\lib\\site-packages (from dtale) (0.24.2)\n",
      "Requirement already satisfied: requests in c:\\users\\mirul\\anaconda3\\lib\\site-packages (from dtale) (2.26.0)\n",
      "Requirement already satisfied: dash-daq in c:\\users\\mirul\\anaconda3\\lib\\site-packages (from dtale) (0.5.0)\n",
      "Requirement already satisfied: certifi in c:\\users\\mirul\\anaconda3\\lib\\site-packages (from dtale) (2021.10.8)\n",
      "Requirement already satisfied: dash-bootstrap-components<=1.3.1 in c:\\users\\mirul\\anaconda3\\lib\\site-packages (from dtale) (1.3.1)\n",
      "Requirement already satisfied: numpy in c:\\users\\mirul\\anaconda3\\lib\\site-packages (from dtale) (1.22.4)\n",
      "Requirement already satisfied: dash-colorscales in c:\\users\\mirul\\anaconda3\\lib\\site-packages (from dtale) (0.0.4)\n",
      "Requirement already satisfied: dash-table==5.0.0 in c:\\users\\mirul\\anaconda3\\lib\\site-packages (from dash->dtale) (5.0.0)\n",
      "Requirement already satisfied: Werkzeug<=2.2.3 in c:\\users\\mirul\\anaconda3\\lib\\site-packages (from dash->dtale) (2.0.2)\n",
      "Requirement already satisfied: dash-html-components==2.0.0 in c:\\users\\mirul\\anaconda3\\lib\\site-packages (from dash->dtale) (2.0.0)\n",
      "Requirement already satisfied: dash-core-components==2.0.0 in c:\\users\\mirul\\anaconda3\\lib\\site-packages (from dash->dtale) (2.0.0)\n",
      "Requirement already satisfied: click>=5.1 in c:\\users\\mirul\\anaconda3\\lib\\site-packages (from Flask->dtale) (8.0.3)\n",
      "Requirement already satisfied: Jinja2>=2.10.1 in c:\\users\\mirul\\anaconda3\\lib\\site-packages (from Flask->dtale) (2.11.3)\n",
      "Requirement already satisfied: colorama in c:\\users\\mirul\\anaconda3\\lib\\site-packages (from click>=5.1->Flask->dtale) (0.4.4)\n",
      "Requirement already satisfied: MarkupSafe>=0.23 in c:\\users\\mirul\\anaconda3\\lib\\site-packages (from Jinja2>=2.10.1->Flask->dtale) (1.1.1)\n",
      "Requirement already satisfied: kiwisolver>=1.0.1 in c:\\users\\mirul\\anaconda3\\lib\\site-packages (from matplotlib<=3.6.0->dtale) (1.3.1)\n",
      "Requirement already satisfied: pillow>=6.2.0 in c:\\users\\mirul\\anaconda3\\lib\\site-packages (from matplotlib<=3.6.0->dtale) (8.4.0)\n",
      "Requirement already satisfied: python-dateutil>=2.7 in c:\\users\\mirul\\anaconda3\\lib\\site-packages (from matplotlib<=3.6.0->dtale) (2.8.2)\n",
      "Requirement already satisfied: pyparsing>=2.2.1 in c:\\users\\mirul\\anaconda3\\lib\\site-packages (from matplotlib<=3.6.0->dtale) (3.0.4)\n",
      "Requirement already satisfied: tenacity>=6.2.0 in c:\\users\\mirul\\anaconda3\\lib\\site-packages (from plotly->dtale) (8.2.2)\n",
      "Requirement already satisfied: packaging in c:\\users\\mirul\\anaconda3\\lib\\site-packages (from plotly->dtale) (23.1)\n",
      "Requirement already satisfied: soupsieve>1.2 in c:\\users\\mirul\\anaconda3\\lib\\site-packages (from beautifulsoup4->dtale) (2.2.1)\n",
      "Requirement already satisfied: brotli in c:\\users\\mirul\\anaconda3\\lib\\site-packages (from Flask-Compress->dtale) (1.0.9)\n",
      "Requirement already satisfied: pytz>=2020.1 in c:\\users\\mirul\\anaconda3\\lib\\site-packages (from pandas->dtale) (2021.3)\n",
      "Requirement already satisfied: tzdata>=2022.1 in c:\\users\\mirul\\anaconda3\\lib\\site-packages (from pandas->dtale) (2023.3)\n",
      "Requirement already satisfied: charset-normalizer~=2.0.0 in c:\\users\\mirul\\anaconda3\\lib\\site-packages (from requests->dtale) (2.0.4)\n",
      "Requirement already satisfied: urllib3<1.27,>=1.21.1 in c:\\users\\mirul\\anaconda3\\lib\\site-packages (from requests->dtale) (1.26.7)\n",
      "Requirement already satisfied: idna<4,>=2.5 in c:\\users\\mirul\\anaconda3\\lib\\site-packages (from requests->dtale) (3.2)\n",
      "Requirement already satisfied: joblib>=0.11 in c:\\users\\mirul\\anaconda3\\lib\\site-packages (from scikit-learn->dtale) (1.1.0)\n",
      "Requirement already satisfied: threadpoolctl>=2.0.0 in c:\\users\\mirul\\anaconda3\\lib\\site-packages (from scikit-learn->dtale) (2.2.0)\n",
      "Requirement already satisfied: patsy>=0.5.2 in c:\\users\\mirul\\anaconda3\\lib\\site-packages (from statsmodels->dtale) (0.5.2)\n"
     ]
    }
   ],
   "source": [
    "#dtale\n",
    "!pip install dtale"
   ]
  },
  {
   "cell_type": "code",
   "execution_count": 16,
   "id": "3227b7cb",
   "metadata": {},
   "outputs": [
    {
     "data": {
      "text/html": [
       "\n",
       "        <iframe\n",
       "            width=\"100%\"\n",
       "            height=\"475\"\n",
       "            src=\"http://LAPTOP-TQ6ATEIH:40000/dtale/iframe/2\"\n",
       "            frameborder=\"0\"\n",
       "            allowfullscreen\n",
       "            \n",
       "        ></iframe>\n",
       "        "
      ],
      "text/plain": [
       "<IPython.lib.display.IFrame at 0x14afc000490>"
      ]
     },
     "metadata": {},
     "output_type": "display_data"
    },
    {
     "data": {
      "text/plain": []
     },
     "execution_count": 16,
     "metadata": {},
     "output_type": "execute_result"
    }
   ],
   "source": [
    "import pandas as pd\n",
    "import dtale\n",
    "dtale.show(df)"
   ]
  },
  {
   "cell_type": "code",
   "execution_count": 15,
   "id": "42ada962",
   "metadata": {},
   "outputs": [
    {
     "data": {
      "text/plain": [
       "total_bill    0\n",
       "tip           0\n",
       "sex           0\n",
       "smoker        0\n",
       "day           0\n",
       "time          0\n",
       "size          0\n",
       "dtype: int64"
      ]
     },
     "execution_count": 15,
     "metadata": {},
     "output_type": "execute_result"
    }
   ],
   "source": [
    "df.isnull().sum()"
   ]
  },
  {
   "cell_type": "code",
   "execution_count": 17,
   "id": "570bdec6",
   "metadata": {},
   "outputs": [
    {
     "name": "stdout",
     "output_type": "stream",
     "text": [
      "Collecting sweetviz\n",
      "  Downloading sweetviz-2.1.4-py3-none-any.whl (15.1 MB)\n",
      "Requirement already satisfied: scipy>=1.3.2 in c:\\users\\mirul\\anaconda3\\lib\\site-packages (from sweetviz) (1.7.1)\n",
      "Requirement already satisfied: matplotlib>=3.1.3 in c:\\users\\mirul\\anaconda3\\lib\\site-packages (from sweetviz) (3.4.3)\n",
      "Collecting importlib-resources>=1.2.0\n",
      "  Downloading importlib_resources-5.12.0-py3-none-any.whl (36 kB)\n",
      "Requirement already satisfied: numpy>=1.16.0 in c:\\users\\mirul\\anaconda3\\lib\\site-packages (from sweetviz) (1.22.4)\n",
      "Requirement already satisfied: pandas!=1.0.0,!=1.0.1,!=1.0.2,>=0.25.3 in c:\\users\\mirul\\anaconda3\\lib\\site-packages (from sweetviz) (2.0.1)\n",
      "Requirement already satisfied: tqdm>=4.43.0 in c:\\users\\mirul\\anaconda3\\lib\\site-packages (from sweetviz) (4.62.3)\n",
      "Requirement already satisfied: jinja2>=2.11.1 in c:\\users\\mirul\\anaconda3\\lib\\site-packages (from sweetviz) (2.11.3)\n",
      "Requirement already satisfied: zipp>=3.1.0 in c:\\users\\mirul\\anaconda3\\lib\\site-packages (from importlib-resources>=1.2.0->sweetviz) (3.6.0)\n",
      "Requirement already satisfied: MarkupSafe>=0.23 in c:\\users\\mirul\\anaconda3\\lib\\site-packages (from jinja2>=2.11.1->sweetviz) (1.1.1)\n",
      "Requirement already satisfied: python-dateutil>=2.7 in c:\\users\\mirul\\anaconda3\\lib\\site-packages (from matplotlib>=3.1.3->sweetviz) (2.8.2)\n",
      "Requirement already satisfied: pillow>=6.2.0 in c:\\users\\mirul\\anaconda3\\lib\\site-packages (from matplotlib>=3.1.3->sweetviz) (8.4.0)\n",
      "Requirement already satisfied: kiwisolver>=1.0.1 in c:\\users\\mirul\\anaconda3\\lib\\site-packages (from matplotlib>=3.1.3->sweetviz) (1.3.1)\n",
      "Requirement already satisfied: pyparsing>=2.2.1 in c:\\users\\mirul\\anaconda3\\lib\\site-packages (from matplotlib>=3.1.3->sweetviz) (3.0.4)\n",
      "Requirement already satisfied: cycler>=0.10 in c:\\users\\mirul\\anaconda3\\lib\\site-packages (from matplotlib>=3.1.3->sweetviz) (0.10.0)\n",
      "Requirement already satisfied: six in c:\\users\\mirul\\anaconda3\\lib\\site-packages (from cycler>=0.10->matplotlib>=3.1.3->sweetviz) (1.16.0)\n",
      "Requirement already satisfied: pytz>=2020.1 in c:\\users\\mirul\\anaconda3\\lib\\site-packages (from pandas!=1.0.0,!=1.0.1,!=1.0.2,>=0.25.3->sweetviz) (2021.3)\n",
      "Requirement already satisfied: tzdata>=2022.1 in c:\\users\\mirul\\anaconda3\\lib\\site-packages (from pandas!=1.0.0,!=1.0.1,!=1.0.2,>=0.25.3->sweetviz) (2023.3)\n",
      "Requirement already satisfied: colorama in c:\\users\\mirul\\anaconda3\\lib\\site-packages (from tqdm>=4.43.0->sweetviz) (0.4.4)\n",
      "Installing collected packages: importlib-resources, sweetviz\n",
      "Successfully installed importlib-resources-5.12.0 sweetviz-2.1.4\n"
     ]
    }
   ],
   "source": [
    "!pip install sweetviz"
   ]
  },
  {
   "cell_type": "code",
   "execution_count": 19,
   "id": "6c2993a6",
   "metadata": {},
   "outputs": [
    {
     "data": {
      "application/vnd.jupyter.widget-view+json": {
       "model_id": "c863a613bf1049a2982efd4a94371395",
       "version_major": 2,
       "version_minor": 0
      },
      "text/plain": [
       "                                             |                                             | [  0%]   00:00 ->…"
      ]
     },
     "metadata": {},
     "output_type": "display_data"
    }
   ],
   "source": [
    "import sweetviz as sv\n",
    "report=sv.analyze(df)"
   ]
  },
  {
   "cell_type": "code",
   "execution_count": 21,
   "id": "8dfea0e4",
   "metadata": {},
   "outputs": [
    {
     "name": "stdout",
     "output_type": "stream",
     "text": [
      "Report sweet_report.html was generated! NOTEBOOK/COLAB USERS: the web browser MAY not pop up, regardless, the report IS saved in your notebook/colab files.\n"
     ]
    }
   ],
   "source": [
    "report.show_html('sweet_report.html')"
   ]
  },
  {
   "cell_type": "code",
   "execution_count": 22,
   "id": "abb2c794",
   "metadata": {},
   "outputs": [
    {
     "name": "stdout",
     "output_type": "stream",
     "text": [
      "Collecting dataprep\n",
      "  Downloading dataprep-0.4.5-py3-none-any.whl (9.9 MB)\n",
      "Collecting python-stdnum<2.0,>=1.16\n",
      "  Downloading python_stdnum-1.18-py2.py3-none-any.whl (1.0 MB)\n"
     ]
    },
    {
     "name": "stderr",
     "output_type": "stream",
     "text": [
      "ERROR: pip's dependency resolver does not currently take into account all the packages that are installed. This behaviour is the source of the following dependency conflicts.\n",
      "anaconda-project 0.10.1 requires ruamel-yaml, which is not installed.\n",
      "dtale 2.16.0 requires scipy<=1.9.3; python_version >= \"3.8\", but you have scipy 1.10.1 which is incompatible.\n"
     ]
    },
    {
     "name": "stdout",
     "output_type": "stream",
     "text": [
      "Collecting nltk<4.0.0,>=3.6.7\n",
      "  Downloading nltk-3.8.1-py3-none-any.whl (1.5 MB)\n",
      "Collecting flask_cors<4.0.0,>=3.0.10\n",
      "  Downloading Flask_Cors-3.0.10-py2.py3-none-any.whl (14 kB)\n",
      "Collecting metaphone<0.7,>=0.6\n",
      "  Downloading Metaphone-0.6.tar.gz (14 kB)\n",
      "Requirement already satisfied: bokeh<3,>=2 in c:\\users\\mirul\\anaconda3\\lib\\site-packages (from dataprep) (2.4.1)\n",
      "Collecting jsonpath-ng<2.0,>=1.5\n",
      "  Downloading jsonpath_ng-1.5.3-py3-none-any.whl (29 kB)\n",
      "Requirement already satisfied: pydantic<2.0,>=1.6 in c:\\users\\mirul\\anaconda3\\lib\\site-packages (from dataprep) (1.10.8)\n",
      "Collecting python-crfsuite==0.9.8\n",
      "  Downloading python_crfsuite-0.9.8-cp39-cp39-win_amd64.whl (158 kB)\n",
      "Collecting rapidfuzz<3.0.0,>=2.1.2\n",
      "  Downloading rapidfuzz-2.15.1-cp39-cp39-win_amd64.whl (1.8 MB)\n",
      "Requirement already satisfied: numpy<2.0,>=1.21 in c:\\users\\mirul\\anaconda3\\lib\\site-packages (from dataprep) (1.22.4)\n",
      "Collecting scipy<2.0,>=1.8\n",
      "  Downloading scipy-1.10.1-cp39-cp39-win_amd64.whl (42.5 MB)\n",
      "Collecting aiohttp<4.0,>=3.6\n",
      "  Downloading aiohttp-3.8.4-cp39-cp39-win_amd64.whl (323 kB)\n",
      "Collecting varname<0.9.0,>=0.8.1\n",
      "  Downloading varname-0.8.3-py3-none-any.whl (21 kB)\n",
      "Collecting pydot<2.0.0,>=1.4.2\n",
      "  Downloading pydot-1.4.2-py2.py3-none-any.whl (21 kB)\n",
      "Requirement already satisfied: ipywidgets<8.0,>=7.5 in c:\\users\\mirul\\anaconda3\\lib\\site-packages (from dataprep) (7.6.5)\n",
      "Requirement already satisfied: tqdm<5.0,>=4.48 in c:\\users\\mirul\\anaconda3\\lib\\site-packages (from dataprep) (4.62.3)\n",
      "Collecting pandas<2.0,>=1.1\n",
      "  Downloading pandas-1.5.3-cp39-cp39-win_amd64.whl (10.9 MB)\n",
      "Collecting flask<3,>=2\n",
      "  Downloading Flask-2.3.2-py3-none-any.whl (96 kB)\n",
      "Collecting jinja2<3.1,>=3.0\n",
      "  Downloading Jinja2-3.0.3-py3-none-any.whl (133 kB)\n",
      "Requirement already satisfied: regex<2022.0.0,>=2021.8.3 in c:\\users\\mirul\\anaconda3\\lib\\site-packages (from dataprep) (2021.8.3)\n",
      "Collecting sqlalchemy==1.3.24\n",
      "  Downloading SQLAlchemy-1.3.24-cp39-cp39-win_amd64.whl (1.2 MB)\n",
      "Requirement already satisfied: wordcloud<2.0,>=1.8 in c:\\users\\mirul\\anaconda3\\lib\\site-packages (from dataprep) (1.9.2)\n",
      "Collecting dask[array,dataframe,delayed]>=2022.3.0\n",
      "  Downloading dask-2023.5.0-py3-none-any.whl (1.2 MB)\n",
      "Requirement already satisfied: attrs>=17.3.0 in c:\\users\\mirul\\anaconda3\\lib\\site-packages (from aiohttp<4.0,>=3.6->dataprep) (21.2.0)\n",
      "Collecting yarl<2.0,>=1.0\n",
      "  Downloading yarl-1.9.2-cp39-cp39-win_amd64.whl (61 kB)\n",
      "Collecting aiosignal>=1.1.2\n",
      "  Downloading aiosignal-1.3.1-py3-none-any.whl (7.6 kB)\n",
      "Requirement already satisfied: charset-normalizer<4.0,>=2.0 in c:\\users\\mirul\\anaconda3\\lib\\site-packages (from aiohttp<4.0,>=3.6->dataprep) (2.0.4)\n",
      "Collecting multidict<7.0,>=4.5\n",
      "  Downloading multidict-6.0.4-cp39-cp39-win_amd64.whl (28 kB)\n",
      "Collecting frozenlist>=1.1.1\n",
      "  Downloading frozenlist-1.3.3-cp39-cp39-win_amd64.whl (34 kB)\n",
      "Collecting async-timeout<5.0,>=4.0.0a3\n",
      "  Using cached async_timeout-4.0.2-py3-none-any.whl (5.8 kB)\n",
      "Requirement already satisfied: typing-extensions>=3.10.0 in c:\\users\\mirul\\anaconda3\\lib\\site-packages (from bokeh<3,>=2->dataprep) (4.6.2)\n",
      "Requirement already satisfied: tornado>=5.1 in c:\\users\\mirul\\anaconda3\\lib\\site-packages (from bokeh<3,>=2->dataprep) (6.1)\n",
      "Requirement already satisfied: pillow>=7.1.0 in c:\\users\\mirul\\anaconda3\\lib\\site-packages (from bokeh<3,>=2->dataprep) (8.4.0)\n",
      "Requirement already satisfied: PyYAML>=3.10 in c:\\users\\mirul\\anaconda3\\lib\\site-packages (from bokeh<3,>=2->dataprep) (6.0)\n",
      "Requirement already satisfied: packaging>=16.8 in c:\\users\\mirul\\anaconda3\\lib\\site-packages (from bokeh<3,>=2->dataprep) (23.1)\n",
      "Requirement already satisfied: partd>=1.2.0 in c:\\users\\mirul\\anaconda3\\lib\\site-packages (from dask[array,dataframe,delayed]>=2022.3.0->dataprep) (1.2.0)\n",
      "Requirement already satisfied: fsspec>=2021.09.0 in c:\\users\\mirul\\anaconda3\\lib\\site-packages (from dask[array,dataframe,delayed]>=2022.3.0->dataprep) (2021.10.1)\n",
      "Requirement already satisfied: toolz>=0.10.0 in c:\\users\\mirul\\anaconda3\\lib\\site-packages (from dask[array,dataframe,delayed]>=2022.3.0->dataprep) (0.11.1)\n",
      "Requirement already satisfied: click>=8.0 in c:\\users\\mirul\\anaconda3\\lib\\site-packages (from dask[array,dataframe,delayed]>=2022.3.0->dataprep) (8.0.3)\n",
      "Collecting importlib-metadata>=4.13.0\n",
      "  Downloading importlib_metadata-6.6.0-py3-none-any.whl (22 kB)\n",
      "Requirement already satisfied: cloudpickle>=1.5.0 in c:\\users\\mirul\\anaconda3\\lib\\site-packages (from dask[array,dataframe,delayed]>=2022.3.0->dataprep) (2.0.0)\n",
      "Requirement already satisfied: colorama in c:\\users\\mirul\\anaconda3\\lib\\site-packages (from click>=8.0->dask[array,dataframe,delayed]>=2022.3.0->dataprep) (0.4.4)\n",
      "Collecting flask<3,>=2\n",
      "  Downloading Flask-2.3.1-py3-none-any.whl (96 kB)\n",
      "  Downloading Flask-2.3.0-py3-none-any.whl (96 kB)\n",
      "  Downloading Flask-2.2.5-py3-none-any.whl (101 kB)\n",
      "Requirement already satisfied: itsdangerous>=2.0 in c:\\users\\mirul\\anaconda3\\lib\\site-packages (from flask<3,>=2->dataprep) (2.0.1)\n",
      "Collecting Werkzeug>=2.2.2\n",
      "  Downloading Werkzeug-2.3.4-py3-none-any.whl (242 kB)\n",
      "Requirement already satisfied: Six in c:\\users\\mirul\\anaconda3\\lib\\site-packages (from flask_cors<4.0.0,>=3.0.10->dataprep) (1.16.0)\n",
      "Requirement already satisfied: zipp>=0.5 in c:\\users\\mirul\\anaconda3\\lib\\site-packages (from importlib-metadata>=4.13.0->dask[array,dataframe,delayed]>=2022.3.0->dataprep) (3.6.0)\n",
      "Requirement already satisfied: ipython>=4.0.0 in c:\\users\\mirul\\anaconda3\\lib\\site-packages (from ipywidgets<8.0,>=7.5->dataprep) (7.29.0)\n",
      "Requirement already satisfied: ipykernel>=4.5.1 in c:\\users\\mirul\\anaconda3\\lib\\site-packages (from ipywidgets<8.0,>=7.5->dataprep) (6.4.1)\n",
      "Requirement already satisfied: nbformat>=4.2.0 in c:\\users\\mirul\\anaconda3\\lib\\site-packages (from ipywidgets<8.0,>=7.5->dataprep) (5.1.3)\n",
      "Requirement already satisfied: ipython-genutils~=0.2.0 in c:\\users\\mirul\\anaconda3\\lib\\site-packages (from ipywidgets<8.0,>=7.5->dataprep) (0.2.0)\n",
      "Requirement already satisfied: jupyterlab-widgets>=1.0.0 in c:\\users\\mirul\\anaconda3\\lib\\site-packages (from ipywidgets<8.0,>=7.5->dataprep) (1.0.0)\n",
      "Requirement already satisfied: widgetsnbextension~=3.5.0 in c:\\users\\mirul\\anaconda3\\lib\\site-packages (from ipywidgets<8.0,>=7.5->dataprep) (3.5.1)\n",
      "Requirement already satisfied: traitlets>=4.3.1 in c:\\users\\mirul\\anaconda3\\lib\\site-packages (from ipywidgets<8.0,>=7.5->dataprep) (5.1.0)\n",
      "Requirement already satisfied: matplotlib-inline<0.2.0,>=0.1.0 in c:\\users\\mirul\\anaconda3\\lib\\site-packages (from ipykernel>=4.5.1->ipywidgets<8.0,>=7.5->dataprep) (0.1.2)\n",
      "Requirement already satisfied: debugpy<2.0,>=1.0.0 in c:\\users\\mirul\\anaconda3\\lib\\site-packages (from ipykernel>=4.5.1->ipywidgets<8.0,>=7.5->dataprep) (1.4.1)\n",
      "Requirement already satisfied: jupyter-client<8.0 in c:\\users\\mirul\\anaconda3\\lib\\site-packages (from ipykernel>=4.5.1->ipywidgets<8.0,>=7.5->dataprep) (6.1.12)\n",
      "Requirement already satisfied: backcall in c:\\users\\mirul\\anaconda3\\lib\\site-packages (from ipython>=4.0.0->ipywidgets<8.0,>=7.5->dataprep) (0.2.0)\n",
      "Requirement already satisfied: jedi>=0.16 in c:\\users\\mirul\\anaconda3\\lib\\site-packages (from ipython>=4.0.0->ipywidgets<8.0,>=7.5->dataprep) (0.18.0)\n",
      "Requirement already satisfied: prompt-toolkit!=3.0.0,!=3.0.1,<3.1.0,>=2.0.0 in c:\\users\\mirul\\anaconda3\\lib\\site-packages (from ipython>=4.0.0->ipywidgets<8.0,>=7.5->dataprep) (3.0.20)\n",
      "Requirement already satisfied: decorator in c:\\users\\mirul\\anaconda3\\lib\\site-packages (from ipython>=4.0.0->ipywidgets<8.0,>=7.5->dataprep) (5.1.0)\n",
      "Requirement already satisfied: pygments in c:\\users\\mirul\\anaconda3\\lib\\site-packages (from ipython>=4.0.0->ipywidgets<8.0,>=7.5->dataprep) (2.10.0)\n",
      "Requirement already satisfied: pickleshare in c:\\users\\mirul\\anaconda3\\lib\\site-packages (from ipython>=4.0.0->ipywidgets<8.0,>=7.5->dataprep) (0.7.5)\n",
      "Requirement already satisfied: setuptools>=18.5 in c:\\users\\mirul\\anaconda3\\lib\\site-packages (from ipython>=4.0.0->ipywidgets<8.0,>=7.5->dataprep) (58.0.4)\n",
      "Requirement already satisfied: parso<0.9.0,>=0.8.0 in c:\\users\\mirul\\anaconda3\\lib\\site-packages (from jedi>=0.16->ipython>=4.0.0->ipywidgets<8.0,>=7.5->dataprep) (0.8.2)\n",
      "Collecting MarkupSafe>=2.0\n",
      "  Downloading MarkupSafe-2.1.2-cp39-cp39-win_amd64.whl (16 kB)\n",
      "Requirement already satisfied: ply in c:\\users\\mirul\\anaconda3\\lib\\site-packages (from jsonpath-ng<2.0,>=1.5->dataprep) (3.11)\n",
      "Requirement already satisfied: python-dateutil>=2.1 in c:\\users\\mirul\\anaconda3\\lib\\site-packages (from jupyter-client<8.0->ipykernel>=4.5.1->ipywidgets<8.0,>=7.5->dataprep) (2.8.2)\n",
      "Requirement already satisfied: jupyter-core>=4.6.0 in c:\\users\\mirul\\anaconda3\\lib\\site-packages (from jupyter-client<8.0->ipykernel>=4.5.1->ipywidgets<8.0,>=7.5->dataprep) (4.8.1)\n",
      "Requirement already satisfied: pyzmq>=13 in c:\\users\\mirul\\anaconda3\\lib\\site-packages (from jupyter-client<8.0->ipykernel>=4.5.1->ipywidgets<8.0,>=7.5->dataprep) (22.2.1)\n",
      "Requirement already satisfied: pywin32>=1.0 in c:\\users\\mirul\\anaconda3\\lib\\site-packages (from jupyter-core>=4.6.0->jupyter-client<8.0->ipykernel>=4.5.1->ipywidgets<8.0,>=7.5->dataprep) (228)\n",
      "Requirement already satisfied: jsonschema!=2.5.0,>=2.4 in c:\\users\\mirul\\anaconda3\\lib\\site-packages (from nbformat>=4.2.0->ipywidgets<8.0,>=7.5->dataprep) (3.2.0)\n",
      "Requirement already satisfied: pyrsistent>=0.14.0 in c:\\users\\mirul\\anaconda3\\lib\\site-packages (from jsonschema!=2.5.0,>=2.4->nbformat>=4.2.0->ipywidgets<8.0,>=7.5->dataprep) (0.18.0)\n",
      "Requirement already satisfied: joblib in c:\\users\\mirul\\anaconda3\\lib\\site-packages (from nltk<4.0.0,>=3.6.7->dataprep) (1.1.0)\n",
      "Requirement already satisfied: pytz>=2020.1 in c:\\users\\mirul\\anaconda3\\lib\\site-packages (from pandas<2.0,>=1.1->dataprep) (2021.3)\n",
      "Requirement already satisfied: locket in c:\\users\\mirul\\anaconda3\\lib\\site-packages\\locket-0.2.1-py3.9.egg (from partd>=1.2.0->dask[array,dataframe,delayed]>=2022.3.0->dataprep) (0.2.1)\n",
      "Requirement already satisfied: wcwidth in c:\\users\\mirul\\anaconda3\\lib\\site-packages (from prompt-toolkit!=3.0.0,!=3.0.1,<3.1.0,>=2.0.0->ipython>=4.0.0->ipywidgets<8.0,>=7.5->dataprep) (0.2.5)\n",
      "Requirement already satisfied: pyparsing>=2.1.4 in c:\\users\\mirul\\anaconda3\\lib\\site-packages (from pydot<2.0.0,>=1.4.2->dataprep) (3.0.4)\n",
      "Collecting executing<0.9.0,>=0.8.3\n",
      "  Downloading executing-0.8.3-py2.py3-none-any.whl (16 kB)\n",
      "Collecting asttokens<3.0.0,>=2.0.0\n",
      "  Downloading asttokens-2.2.1-py2.py3-none-any.whl (26 kB)\n",
      "Collecting pure_eval<1.0.0\n",
      "  Using cached pure_eval-0.2.2-py3-none-any.whl (11 kB)\n",
      "Requirement already satisfied: notebook>=4.4.1 in c:\\users\\mirul\\anaconda3\\lib\\site-packages (from widgetsnbextension~=3.5.0->ipywidgets<8.0,>=7.5->dataprep) (6.4.5)\n",
      "Requirement already satisfied: terminado>=0.8.3 in c:\\users\\mirul\\anaconda3\\lib\\site-packages (from notebook>=4.4.1->widgetsnbextension~=3.5.0->ipywidgets<8.0,>=7.5->dataprep) (0.9.4)\n",
      "Requirement already satisfied: prometheus-client in c:\\users\\mirul\\anaconda3\\lib\\site-packages (from notebook>=4.4.1->widgetsnbextension~=3.5.0->ipywidgets<8.0,>=7.5->dataprep) (0.11.0)\n",
      "Requirement already satisfied: nbconvert in c:\\users\\mirul\\anaconda3\\lib\\site-packages (from notebook>=4.4.1->widgetsnbextension~=3.5.0->ipywidgets<8.0,>=7.5->dataprep) (6.1.0)\n",
      "Requirement already satisfied: argon2-cffi in c:\\users\\mirul\\anaconda3\\lib\\site-packages (from notebook>=4.4.1->widgetsnbextension~=3.5.0->ipywidgets<8.0,>=7.5->dataprep) (20.1.0)\n",
      "Requirement already satisfied: Send2Trash>=1.5.0 in c:\\users\\mirul\\anaconda3\\lib\\site-packages (from notebook>=4.4.1->widgetsnbextension~=3.5.0->ipywidgets<8.0,>=7.5->dataprep) (1.8.0)\n",
      "Requirement already satisfied: pywinpty>=0.5 in c:\\users\\mirul\\anaconda3\\lib\\site-packages (from terminado>=0.8.3->notebook>=4.4.1->widgetsnbextension~=3.5.0->ipywidgets<8.0,>=7.5->dataprep) (0.5.7)\n",
      "Requirement already satisfied: matplotlib in c:\\users\\mirul\\anaconda3\\lib\\site-packages (from wordcloud<2.0,>=1.8->dataprep) (3.4.3)\n",
      "Requirement already satisfied: idna>=2.0 in c:\\users\\mirul\\anaconda3\\lib\\site-packages (from yarl<2.0,>=1.0->aiohttp<4.0,>=3.6->dataprep) (3.2)\n",
      "Requirement already satisfied: cffi>=1.0.0 in c:\\users\\mirul\\anaconda3\\lib\\site-packages (from argon2-cffi->notebook>=4.4.1->widgetsnbextension~=3.5.0->ipywidgets<8.0,>=7.5->dataprep) (1.14.6)\n",
      "Requirement already satisfied: pycparser in c:\\users\\mirul\\anaconda3\\lib\\site-packages (from cffi>=1.0.0->argon2-cffi->notebook>=4.4.1->widgetsnbextension~=3.5.0->ipywidgets<8.0,>=7.5->dataprep) (2.20)\n",
      "Requirement already satisfied: cycler>=0.10 in c:\\users\\mirul\\anaconda3\\lib\\site-packages (from matplotlib->wordcloud<2.0,>=1.8->dataprep) (0.10.0)\n",
      "Requirement already satisfied: kiwisolver>=1.0.1 in c:\\users\\mirul\\anaconda3\\lib\\site-packages (from matplotlib->wordcloud<2.0,>=1.8->dataprep) (1.3.1)\n",
      "Requirement already satisfied: mistune<2,>=0.8.1 in c:\\users\\mirul\\anaconda3\\lib\\site-packages (from nbconvert->notebook>=4.4.1->widgetsnbextension~=3.5.0->ipywidgets<8.0,>=7.5->dataprep) (0.8.4)\n",
      "Requirement already satisfied: nbclient<0.6.0,>=0.5.0 in c:\\users\\mirul\\anaconda3\\lib\\site-packages (from nbconvert->notebook>=4.4.1->widgetsnbextension~=3.5.0->ipywidgets<8.0,>=7.5->dataprep) (0.5.3)\n",
      "Requirement already satisfied: bleach in c:\\users\\mirul\\anaconda3\\lib\\site-packages (from nbconvert->notebook>=4.4.1->widgetsnbextension~=3.5.0->ipywidgets<8.0,>=7.5->dataprep) (4.0.0)\n",
      "Requirement already satisfied: testpath in c:\\users\\mirul\\anaconda3\\lib\\site-packages (from nbconvert->notebook>=4.4.1->widgetsnbextension~=3.5.0->ipywidgets<8.0,>=7.5->dataprep) (0.5.0)\n",
      "Requirement already satisfied: jupyterlab-pygments in c:\\users\\mirul\\anaconda3\\lib\\site-packages (from nbconvert->notebook>=4.4.1->widgetsnbextension~=3.5.0->ipywidgets<8.0,>=7.5->dataprep) (0.1.2)\n",
      "Requirement already satisfied: pandocfilters>=1.4.1 in c:\\users\\mirul\\anaconda3\\lib\\site-packages (from nbconvert->notebook>=4.4.1->widgetsnbextension~=3.5.0->ipywidgets<8.0,>=7.5->dataprep) (1.4.3)\n",
      "Requirement already satisfied: defusedxml in c:\\users\\mirul\\anaconda3\\lib\\site-packages (from nbconvert->notebook>=4.4.1->widgetsnbextension~=3.5.0->ipywidgets<8.0,>=7.5->dataprep) (0.7.1)\n"
     ]
    },
    {
     "name": "stderr",
     "output_type": "stream",
     "text": [
      "distributed 2021.10.0 requires dask==2021.10.0, but you have dask 2023.5.0 which is incompatible.\n",
      "dash 2.10.0 requires Flask<=2.2.3,>=1.0.4, but you have flask 2.2.5 which is incompatible.\n",
      "dash 2.10.0 requires Werkzeug<=2.2.3, but you have werkzeug 2.3.4 which is incompatible.\n",
      "cookiecutter 1.7.2 requires Jinja2<3.0.0, but you have jinja2 3.0.3 which is incompatible.\n",
      "cookiecutter 1.7.2 requires MarkupSafe<2.0.0, but you have markupsafe 2.1.2 which is incompatible.\n"
     ]
    },
    {
     "name": "stdout",
     "output_type": "stream",
     "text": [
      "Requirement already satisfied: entrypoints>=0.2.2 in c:\\users\\mirul\\anaconda3\\lib\\site-packages (from nbconvert->notebook>=4.4.1->widgetsnbextension~=3.5.0->ipywidgets<8.0,>=7.5->dataprep) (0.3)\n",
      "Requirement already satisfied: nest-asyncio in c:\\users\\mirul\\anaconda3\\lib\\site-packages (from nbclient<0.6.0,>=0.5.0->nbconvert->notebook>=4.4.1->widgetsnbextension~=3.5.0->ipywidgets<8.0,>=7.5->dataprep) (1.5.1)\n",
      "Requirement already satisfied: async-generator in c:\\users\\mirul\\anaconda3\\lib\\site-packages (from nbclient<0.6.0,>=0.5.0->nbconvert->notebook>=4.4.1->widgetsnbextension~=3.5.0->ipywidgets<8.0,>=7.5->dataprep) (1.10)\n",
      "Requirement already satisfied: webencodings in c:\\users\\mirul\\anaconda3\\lib\\site-packages (from bleach->nbconvert->notebook>=4.4.1->widgetsnbextension~=3.5.0->ipywidgets<8.0,>=7.5->dataprep) (0.5.1)\n",
      "Building wheels for collected packages: metaphone\n",
      "  Building wheel for metaphone (setup.py): started\n",
      "  Building wheel for metaphone (setup.py): finished with status 'done'\n",
      "  Created wheel for metaphone: filename=Metaphone-0.6-py3-none-any.whl size=13919 sha256=34156184dbbc164c0a1316ee13c1a68c55571fefe4463882c7ff6416ac215a9e\n",
      "  Stored in directory: c:\\users\\mirul\\appdata\\local\\pip\\cache\\wheels\\b2\\9e\\d9\\26be7687b8fe36cd6cacbec34e825a3dbcd3bae54017cfb385\n",
      "Successfully built metaphone\n",
      "Installing collected packages: MarkupSafe, jinja2, Werkzeug, multidict, importlib-metadata, frozenlist, yarl, pure-eval, pandas, flask, executing, dask, async-timeout, asttokens, aiosignal, varname, sqlalchemy, scipy, rapidfuzz, python-stdnum, python-crfsuite, pydot, nltk, metaphone, jsonpath-ng, flask-cors, aiohttp, dataprep\n",
      "  Attempting uninstall: MarkupSafe\n",
      "    Found existing installation: MarkupSafe 1.1.1\n",
      "    Uninstalling MarkupSafe-1.1.1:\n",
      "      Successfully uninstalled MarkupSafe-1.1.1\n",
      "  Attempting uninstall: jinja2\n",
      "    Found existing installation: Jinja2 2.11.3\n",
      "    Uninstalling Jinja2-2.11.3:\n",
      "      Successfully uninstalled Jinja2-2.11.3\n",
      "  Attempting uninstall: Werkzeug\n",
      "    Found existing installation: Werkzeug 2.0.2\n",
      "    Uninstalling Werkzeug-2.0.2:\n",
      "      Successfully uninstalled Werkzeug-2.0.2\n",
      "  Attempting uninstall: importlib-metadata\n",
      "    Found existing installation: importlib-metadata 4.8.1\n",
      "    Uninstalling importlib-metadata-4.8.1:\n",
      "      Successfully uninstalled importlib-metadata-4.8.1\n",
      "  Attempting uninstall: pandas\n",
      "    Found existing installation: pandas 2.0.1\n",
      "    Uninstalling pandas-2.0.1:\n",
      "      Successfully uninstalled pandas-2.0.1\n",
      "  Attempting uninstall: flask\n",
      "    Found existing installation: Flask 1.1.2\n",
      "    Uninstalling Flask-1.1.2:\n",
      "      Successfully uninstalled Flask-1.1.2\n",
      "  Attempting uninstall: dask\n",
      "    Found existing installation: dask 2021.10.0\n",
      "    Uninstalling dask-2021.10.0:\n",
      "      Successfully uninstalled dask-2021.10.0\n",
      "  Attempting uninstall: sqlalchemy\n",
      "    Found existing installation: SQLAlchemy 1.4.22\n",
      "    Uninstalling SQLAlchemy-1.4.22:\n",
      "      Successfully uninstalled SQLAlchemy-1.4.22\n",
      "  Attempting uninstall: scipy\n",
      "    Found existing installation: scipy 1.7.1\n",
      "    Uninstalling scipy-1.7.1:\n",
      "      Successfully uninstalled scipy-1.7.1\n",
      "  Attempting uninstall: nltk\n",
      "    Found existing installation: nltk 3.6.5\n",
      "    Uninstalling nltk-3.6.5:\n",
      "      Successfully uninstalled nltk-3.6.5\n",
      "Successfully installed MarkupSafe-2.1.2 Werkzeug-2.3.4 aiohttp-3.8.4 aiosignal-1.3.1 asttokens-2.2.1 async-timeout-4.0.2 dask-2023.5.0 dataprep-0.4.5 executing-0.8.3 flask-2.2.5 flask-cors-3.0.10 frozenlist-1.3.3 importlib-metadata-6.6.0 jinja2-3.0.3 jsonpath-ng-1.5.3 metaphone-0.6 multidict-6.0.4 nltk-3.8.1 pandas-1.5.3 pure-eval-0.2.2 pydot-1.4.2 python-crfsuite-0.9.8 python-stdnum-1.18 rapidfuzz-2.15.1 scipy-1.10.1 sqlalchemy-1.3.24 varname-0.8.3 yarl-1.9.2\n"
     ]
    }
   ],
   "source": [
    "!pip install dataprep"
   ]
  },
  {
   "cell_type": "code",
   "execution_count": null,
   "id": "e849a21d",
   "metadata": {},
   "outputs": [],
   "source": [
    "from dataprep.eda import create_report\n",
    "create_report(df)"
   ]
  },
  {
   "cell_type": "code",
   "execution_count": 26,
   "id": "f8c4bfea",
   "metadata": {},
   "outputs": [
    {
     "name": "stdout",
     "output_type": "stream",
     "text": [
      "Collecting pandas_visual_analysis\n",
      "  Downloading pandas_visual_analysis-0.0.4-py3-none-any.whl (34 kB)\n",
      "Collecting blinker>=1.4\n",
      "  Downloading blinker-1.6.2-py3-none-any.whl (13 kB)\n",
      "Requirement already satisfied: ipywidgets>=7.5.1 in c:\\users\\mirul\\anaconda3\\lib\\site-packages (from pandas_visual_analysis) (7.6.5)\n",
      "Requirement already satisfied: pandas>=1.1.0 in c:\\users\\mirul\\anaconda3\\lib\\site-packages (from pandas_visual_analysis) (1.5.3)\n",
      "Requirement already satisfied: setuptools>=49.2.0 in c:\\users\\mirul\\anaconda3\\lib\\site-packages (from pandas_visual_analysis) (58.0.4)\n",
      "Requirement already satisfied: plotly>=4.10.0 in c:\\users\\mirul\\anaconda3\\lib\\site-packages (from pandas_visual_analysis) (5.14.1)\n",
      "Requirement already satisfied: numpy>=1.19.1 in c:\\users\\mirul\\anaconda3\\lib\\site-packages (from pandas_visual_analysis) (1.22.4)\n",
      "Requirement already satisfied: ipykernel>=4.5.1 in c:\\users\\mirul\\anaconda3\\lib\\site-packages (from ipywidgets>=7.5.1->pandas_visual_analysis) (6.4.1)\n",
      "Requirement already satisfied: nbformat>=4.2.0 in c:\\users\\mirul\\anaconda3\\lib\\site-packages (from ipywidgets>=7.5.1->pandas_visual_analysis) (5.1.3)\n",
      "Requirement already satisfied: traitlets>=4.3.1 in c:\\users\\mirul\\anaconda3\\lib\\site-packages (from ipywidgets>=7.5.1->pandas_visual_analysis) (5.1.0)\n",
      "Requirement already satisfied: widgetsnbextension~=3.5.0 in c:\\users\\mirul\\anaconda3\\lib\\site-packages (from ipywidgets>=7.5.1->pandas_visual_analysis) (3.5.1)\n",
      "Requirement already satisfied: ipython-genutils~=0.2.0 in c:\\users\\mirul\\anaconda3\\lib\\site-packages (from ipywidgets>=7.5.1->pandas_visual_analysis) (0.2.0)\n",
      "Requirement already satisfied: jupyterlab-widgets>=1.0.0 in c:\\users\\mirul\\anaconda3\\lib\\site-packages (from ipywidgets>=7.5.1->pandas_visual_analysis) (1.0.0)\n",
      "Requirement already satisfied: ipython>=4.0.0 in c:\\users\\mirul\\anaconda3\\lib\\site-packages (from ipywidgets>=7.5.1->pandas_visual_analysis) (7.29.0)\n",
      "Requirement already satisfied: jupyter-client<8.0 in c:\\users\\mirul\\anaconda3\\lib\\site-packages (from ipykernel>=4.5.1->ipywidgets>=7.5.1->pandas_visual_analysis) (6.1.12)\n",
      "Requirement already satisfied: matplotlib-inline<0.2.0,>=0.1.0 in c:\\users\\mirul\\anaconda3\\lib\\site-packages (from ipykernel>=4.5.1->ipywidgets>=7.5.1->pandas_visual_analysis) (0.1.2)\n",
      "Requirement already satisfied: tornado<7.0,>=4.2 in c:\\users\\mirul\\anaconda3\\lib\\site-packages (from ipykernel>=4.5.1->ipywidgets>=7.5.1->pandas_visual_analysis) (6.1)\n",
      "Requirement already satisfied: debugpy<2.0,>=1.0.0 in c:\\users\\mirul\\anaconda3\\lib\\site-packages (from ipykernel>=4.5.1->ipywidgets>=7.5.1->pandas_visual_analysis) (1.4.1)\n",
      "Requirement already satisfied: decorator in c:\\users\\mirul\\anaconda3\\lib\\site-packages (from ipython>=4.0.0->ipywidgets>=7.5.1->pandas_visual_analysis) (5.1.0)\n",
      "Requirement already satisfied: pickleshare in c:\\users\\mirul\\anaconda3\\lib\\site-packages (from ipython>=4.0.0->ipywidgets>=7.5.1->pandas_visual_analysis) (0.7.5)\n",
      "Requirement already satisfied: prompt-toolkit!=3.0.0,!=3.0.1,<3.1.0,>=2.0.0 in c:\\users\\mirul\\anaconda3\\lib\\site-packages (from ipython>=4.0.0->ipywidgets>=7.5.1->pandas_visual_analysis) (3.0.20)\n",
      "Requirement already satisfied: backcall in c:\\users\\mirul\\anaconda3\\lib\\site-packages (from ipython>=4.0.0->ipywidgets>=7.5.1->pandas_visual_analysis) (0.2.0)\n",
      "Requirement already satisfied: colorama in c:\\users\\mirul\\anaconda3\\lib\\site-packages (from ipython>=4.0.0->ipywidgets>=7.5.1->pandas_visual_analysis) (0.4.4)\n",
      "Requirement already satisfied: jedi>=0.16 in c:\\users\\mirul\\anaconda3\\lib\\site-packages (from ipython>=4.0.0->ipywidgets>=7.5.1->pandas_visual_analysis) (0.18.0)\n",
      "Requirement already satisfied: pygments in c:\\users\\mirul\\anaconda3\\lib\\site-packages (from ipython>=4.0.0->ipywidgets>=7.5.1->pandas_visual_analysis) (2.10.0)\n",
      "Requirement already satisfied: parso<0.9.0,>=0.8.0 in c:\\users\\mirul\\anaconda3\\lib\\site-packages (from jedi>=0.16->ipython>=4.0.0->ipywidgets>=7.5.1->pandas_visual_analysis) (0.8.2)\n",
      "Requirement already satisfied: pyzmq>=13 in c:\\users\\mirul\\anaconda3\\lib\\site-packages (from jupyter-client<8.0->ipykernel>=4.5.1->ipywidgets>=7.5.1->pandas_visual_analysis) (22.2.1)\n",
      "Requirement already satisfied: python-dateutil>=2.1 in c:\\users\\mirul\\anaconda3\\lib\\site-packages (from jupyter-client<8.0->ipykernel>=4.5.1->ipywidgets>=7.5.1->pandas_visual_analysis) (2.8.2)\n",
      "Requirement already satisfied: jupyter-core>=4.6.0 in c:\\users\\mirul\\anaconda3\\lib\\site-packages (from jupyter-client<8.0->ipykernel>=4.5.1->ipywidgets>=7.5.1->pandas_visual_analysis) (4.8.1)\n",
      "Requirement already satisfied: pywin32>=1.0 in c:\\users\\mirul\\anaconda3\\lib\\site-packages (from jupyter-core>=4.6.0->jupyter-client<8.0->ipykernel>=4.5.1->ipywidgets>=7.5.1->pandas_visual_analysis) (228)\n",
      "Requirement already satisfied: jsonschema!=2.5.0,>=2.4 in c:\\users\\mirul\\anaconda3\\lib\\site-packages (from nbformat>=4.2.0->ipywidgets>=7.5.1->pandas_visual_analysis) (3.2.0)\n",
      "Requirement already satisfied: attrs>=17.4.0 in c:\\users\\mirul\\anaconda3\\lib\\site-packages (from jsonschema!=2.5.0,>=2.4->nbformat>=4.2.0->ipywidgets>=7.5.1->pandas_visual_analysis) (21.2.0)\n",
      "Requirement already satisfied: pyrsistent>=0.14.0 in c:\\users\\mirul\\anaconda3\\lib\\site-packages (from jsonschema!=2.5.0,>=2.4->nbformat>=4.2.0->ipywidgets>=7.5.1->pandas_visual_analysis) (0.18.0)\n",
      "Requirement already satisfied: six>=1.11.0 in c:\\users\\mirul\\anaconda3\\lib\\site-packages (from jsonschema!=2.5.0,>=2.4->nbformat>=4.2.0->ipywidgets>=7.5.1->pandas_visual_analysis) (1.16.0)\n",
      "Requirement already satisfied: pytz>=2020.1 in c:\\users\\mirul\\anaconda3\\lib\\site-packages (from pandas>=1.1.0->pandas_visual_analysis) (2021.3)\n",
      "Requirement already satisfied: tenacity>=6.2.0 in c:\\users\\mirul\\anaconda3\\lib\\site-packages (from plotly>=4.10.0->pandas_visual_analysis) (8.2.2)\n",
      "Requirement already satisfied: packaging in c:\\users\\mirul\\anaconda3\\lib\\site-packages (from plotly>=4.10.0->pandas_visual_analysis) (23.1)\n",
      "Requirement already satisfied: wcwidth in c:\\users\\mirul\\anaconda3\\lib\\site-packages (from prompt-toolkit!=3.0.0,!=3.0.1,<3.1.0,>=2.0.0->ipython>=4.0.0->ipywidgets>=7.5.1->pandas_visual_analysis) (0.2.5)\n",
      "Requirement already satisfied: notebook>=4.4.1 in c:\\users\\mirul\\anaconda3\\lib\\site-packages (from widgetsnbextension~=3.5.0->ipywidgets>=7.5.1->pandas_visual_analysis) (6.4.5)\n",
      "Requirement already satisfied: argon2-cffi in c:\\users\\mirul\\anaconda3\\lib\\site-packages (from notebook>=4.4.1->widgetsnbextension~=3.5.0->ipywidgets>=7.5.1->pandas_visual_analysis) (20.1.0)\n",
      "Requirement already satisfied: nbconvert in c:\\users\\mirul\\anaconda3\\lib\\site-packages (from notebook>=4.4.1->widgetsnbextension~=3.5.0->ipywidgets>=7.5.1->pandas_visual_analysis) (6.1.0)\n",
      "Requirement already satisfied: terminado>=0.8.3 in c:\\users\\mirul\\anaconda3\\lib\\site-packages (from notebook>=4.4.1->widgetsnbextension~=3.5.0->ipywidgets>=7.5.1->pandas_visual_analysis) (0.9.4)\n",
      "Requirement already satisfied: jinja2 in c:\\users\\mirul\\anaconda3\\lib\\site-packages (from notebook>=4.4.1->widgetsnbextension~=3.5.0->ipywidgets>=7.5.1->pandas_visual_analysis) (3.0.3)\n",
      "Requirement already satisfied: prometheus-client in c:\\users\\mirul\\anaconda3\\lib\\site-packages (from notebook>=4.4.1->widgetsnbextension~=3.5.0->ipywidgets>=7.5.1->pandas_visual_analysis) (0.11.0)\n",
      "Requirement already satisfied: Send2Trash>=1.5.0 in c:\\users\\mirul\\anaconda3\\lib\\site-packages (from notebook>=4.4.1->widgetsnbextension~=3.5.0->ipywidgets>=7.5.1->pandas_visual_analysis) (1.8.0)\n",
      "Requirement already satisfied: pywinpty>=0.5 in c:\\users\\mirul\\anaconda3\\lib\\site-packages (from terminado>=0.8.3->notebook>=4.4.1->widgetsnbextension~=3.5.0->ipywidgets>=7.5.1->pandas_visual_analysis) (0.5.7)\n",
      "Requirement already satisfied: cffi>=1.0.0 in c:\\users\\mirul\\anaconda3\\lib\\site-packages (from argon2-cffi->notebook>=4.4.1->widgetsnbextension~=3.5.0->ipywidgets>=7.5.1->pandas_visual_analysis) (1.14.6)\n",
      "Requirement already satisfied: pycparser in c:\\users\\mirul\\anaconda3\\lib\\site-packages (from cffi>=1.0.0->argon2-cffi->notebook>=4.4.1->widgetsnbextension~=3.5.0->ipywidgets>=7.5.1->pandas_visual_analysis) (2.20)\n",
      "Requirement already satisfied: MarkupSafe>=2.0 in c:\\users\\mirul\\anaconda3\\lib\\site-packages (from jinja2->notebook>=4.4.1->widgetsnbextension~=3.5.0->ipywidgets>=7.5.1->pandas_visual_analysis) (2.1.2)\n",
      "Requirement already satisfied: defusedxml in c:\\users\\mirul\\anaconda3\\lib\\site-packages (from nbconvert->notebook>=4.4.1->widgetsnbextension~=3.5.0->ipywidgets>=7.5.1->pandas_visual_analysis) (0.7.1)\n",
      "Requirement already satisfied: bleach in c:\\users\\mirul\\anaconda3\\lib\\site-packages (from nbconvert->notebook>=4.4.1->widgetsnbextension~=3.5.0->ipywidgets>=7.5.1->pandas_visual_analysis) (4.0.0)\n",
      "Requirement already satisfied: nbclient<0.6.0,>=0.5.0 in c:\\users\\mirul\\anaconda3\\lib\\site-packages (from nbconvert->notebook>=4.4.1->widgetsnbextension~=3.5.0->ipywidgets>=7.5.1->pandas_visual_analysis) (0.5.3)\n",
      "Requirement already satisfied: testpath in c:\\users\\mirul\\anaconda3\\lib\\site-packages (from nbconvert->notebook>=4.4.1->widgetsnbextension~=3.5.0->ipywidgets>=7.5.1->pandas_visual_analysis) (0.5.0)\n",
      "Requirement already satisfied: mistune<2,>=0.8.1 in c:\\users\\mirul\\anaconda3\\lib\\site-packages (from nbconvert->notebook>=4.4.1->widgetsnbextension~=3.5.0->ipywidgets>=7.5.1->pandas_visual_analysis) (0.8.4)\n",
      "Requirement already satisfied: pandocfilters>=1.4.1 in c:\\users\\mirul\\anaconda3\\lib\\site-packages (from nbconvert->notebook>=4.4.1->widgetsnbextension~=3.5.0->ipywidgets>=7.5.1->pandas_visual_analysis) (1.4.3)\n",
      "Requirement already satisfied: jupyterlab-pygments in c:\\users\\mirul\\anaconda3\\lib\\site-packages (from nbconvert->notebook>=4.4.1->widgetsnbextension~=3.5.0->ipywidgets>=7.5.1->pandas_visual_analysis) (0.1.2)\n",
      "Requirement already satisfied: entrypoints>=0.2.2 in c:\\users\\mirul\\anaconda3\\lib\\site-packages (from nbconvert->notebook>=4.4.1->widgetsnbextension~=3.5.0->ipywidgets>=7.5.1->pandas_visual_analysis) (0.3)\n",
      "Requirement already satisfied: async-generator in c:\\users\\mirul\\anaconda3\\lib\\site-packages (from nbclient<0.6.0,>=0.5.0->nbconvert->notebook>=4.4.1->widgetsnbextension~=3.5.0->ipywidgets>=7.5.1->pandas_visual_analysis) (1.10)\n",
      "Requirement already satisfied: nest-asyncio in c:\\users\\mirul\\anaconda3\\lib\\site-packages (from nbclient<0.6.0,>=0.5.0->nbconvert->notebook>=4.4.1->widgetsnbextension~=3.5.0->ipywidgets>=7.5.1->pandas_visual_analysis) (1.5.1)\n",
      "Requirement already satisfied: webencodings in c:\\users\\mirul\\anaconda3\\lib\\site-packages (from bleach->nbconvert->notebook>=4.4.1->widgetsnbextension~=3.5.0->ipywidgets>=7.5.1->pandas_visual_analysis) (0.5.1)\n",
      "Installing collected packages: blinker, pandas-visual-analysis\n",
      "Successfully installed blinker-1.6.2 pandas-visual-analysis-0.0.4\n"
     ]
    }
   ],
   "source": [
    "!pip install pandas_visual_analysis\n"
   ]
  },
  {
   "cell_type": "code",
   "execution_count": 27,
   "id": "4c0e026c",
   "metadata": {},
   "outputs": [
    {
     "data": {
      "application/vnd.jupyter.widget-view+json": {
       "model_id": "ebb84ef4e0014c679d964e65feb3e697",
       "version_major": 2,
       "version_minor": 0
      },
      "text/plain": [
       "VBox(children=(ToggleButtons(_dom_classes=('layout-b78ffd007c58430ba9e0b06c955ad042',), description='Selection…"
      ]
     },
     "metadata": {},
     "output_type": "display_data"
    }
   ],
   "source": [
    "from pandas_visual_analysis import VisualAnalysis\n",
    "VisualAnalysis(df)"
   ]
  },
  {
   "cell_type": "code",
   "execution_count": null,
   "id": "1fa3e5f4",
   "metadata": {},
   "outputs": [],
   "source": [
    "!pip uninstall pandas_profiling\n",
    "!pip uninstall dtale\n",
    "!pip uninstall sweetviz\n",
    "!pip uninstall dataprep\n",
    "!pip uninstall pandas_visual_analysis"
   ]
  },
  {
   "cell_type": "code",
   "execution_count": null,
   "id": "b0d9f119",
   "metadata": {},
   "outputs": [],
   "source": []
  }
 ],
 "metadata": {
  "kernelspec": {
   "display_name": "Python 3 (ipykernel)",
   "language": "python",
   "name": "python3"
  },
  "language_info": {
   "codemirror_mode": {
    "name": "ipython",
    "version": 3
   },
   "file_extension": ".py",
   "mimetype": "text/x-python",
   "name": "python",
   "nbconvert_exporter": "python",
   "pygments_lexer": "ipython3",
   "version": "3.9.7"
  }
 },
 "nbformat": 4,
 "nbformat_minor": 5
}
