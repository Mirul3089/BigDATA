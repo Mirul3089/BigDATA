{
 "cells": [
  {
   "cell_type": "code",
   "execution_count": 2,
   "id": "91cf915a",
   "metadata": {},
   "outputs": [],
   "source": [
    "import numpy as np"
   ]
  },
  {
   "cell_type": "code",
   "execution_count": 2,
   "id": "c0a9b8de",
   "metadata": {},
   "outputs": [],
   "source": [
    "arr=np.array([[4,3,2],[10,1,0],[12,3,55]])"
   ]
  },
  {
   "cell_type": "code",
   "execution_count": 3,
   "id": "bb6d1674",
   "metadata": {},
   "outputs": [
    {
     "data": {
      "text/plain": [
       "array([[ 4,  3,  2],\n",
       "       [10,  1,  0],\n",
       "       [12,  3, 55]])"
      ]
     },
     "execution_count": 3,
     "metadata": {},
     "output_type": "execute_result"
    }
   ],
   "source": [
    "arr"
   ]
  },
  {
   "cell_type": "code",
   "execution_count": 4,
   "id": "52cf0b80",
   "metadata": {},
   "outputs": [
    {
     "data": {
      "text/plain": [
       "0"
      ]
     },
     "execution_count": 4,
     "metadata": {},
     "output_type": "execute_result"
    }
   ],
   "source": [
    "np.amin(arr)#for minimum value in array"
   ]
  },
  {
   "cell_type": "code",
   "execution_count": null,
   "id": "f67696cc",
   "metadata": {},
   "outputs": [],
   "source": [
    "np.amin(arr,axis=0) # or axis=1 then it would horizontal"
   ]
  },
  {
   "cell_type": "code",
   "execution_count": 5,
   "id": "e068599a",
   "metadata": {},
   "outputs": [
    {
     "data": {
      "text/plain": [
       "55"
      ]
     },
     "execution_count": 5,
     "metadata": {},
     "output_type": "execute_result"
    }
   ],
   "source": [
    "np.max(arr)#np.amax(arr,axis=0)"
   ]
  },
  {
   "cell_type": "code",
   "execution_count": 6,
   "id": "41e5d018",
   "metadata": {},
   "outputs": [
    {
     "data": {
      "text/plain": [
       "3.0"
      ]
     },
     "execution_count": 6,
     "metadata": {},
     "output_type": "execute_result"
    }
   ],
   "source": [
    "np.median(arr)"
   ]
  },
  {
   "cell_type": "code",
   "execution_count": 7,
   "id": "c9b18cf1",
   "metadata": {},
   "outputs": [
    {
     "data": {
      "text/plain": [
       "10.0"
      ]
     },
     "execution_count": 7,
     "metadata": {},
     "output_type": "execute_result"
    }
   ],
   "source": [
    "np.mean(arr)"
   ]
  },
  {
   "cell_type": "code",
   "execution_count": 8,
   "id": "3afacbba",
   "metadata": {},
   "outputs": [
    {
     "data": {
      "text/plain": [
       "267.55555555555554"
      ]
     },
     "execution_count": 8,
     "metadata": {},
     "output_type": "execute_result"
    }
   ],
   "source": [
    "np.var(arr)#variance"
   ]
  },
  {
   "cell_type": "code",
   "execution_count": 9,
   "id": "f2ba018a",
   "metadata": {},
   "outputs": [
    {
     "data": {
      "text/plain": [
       "16.35712552851373"
      ]
     },
     "execution_count": 9,
     "metadata": {},
     "output_type": "execute_result"
    }
   ],
   "source": [
    "np.std(arr)#standard deviation"
   ]
  },
  {
   "cell_type": "code",
   "execution_count": 10,
   "id": "a5b8c553",
   "metadata": {},
   "outputs": [
    {
     "data": {
      "text/plain": [
       "3.0"
      ]
     },
     "execution_count": 10,
     "metadata": {},
     "output_type": "execute_result"
    }
   ],
   "source": [
    "np.percentile(arr,50)#to know value under percentile"
   ]
  },
  {
   "cell_type": "code",
   "execution_count": 12,
   "id": "eeb83d2c",
   "metadata": {},
   "outputs": [],
   "source": [
    "deg = np.array([0,30,45,60,90])"
   ]
  },
  {
   "cell_type": "code",
   "execution_count": 13,
   "id": "df90eeff",
   "metadata": {},
   "outputs": [
    {
     "data": {
      "text/plain": [
       "array([0.        , 0.5       , 0.70710678, 0.8660254 , 1.        ])"
      ]
     },
     "execution_count": 13,
     "metadata": {},
     "output_type": "execute_result"
    }
   ],
   "source": [
    "np.sin(deg*np.pi/180)#to convert degree into radiance and #.cos and #.tan"
   ]
  },
  {
   "cell_type": "code",
   "execution_count": 14,
   "id": "bb41dc3f",
   "metadata": {},
   "outputs": [
    {
     "data": {
      "text/plain": [
       "'\\narcisn\\narccos\\narctan\\n'"
      ]
     },
     "execution_count": 14,
     "metadata": {},
     "output_type": "execute_result"
    }
   ],
   "source": [
    "#inverse of matrics\n",
    "'''\n",
    "arcisn\n",
    "arccos\n",
    "arctan\n",
    "'''"
   ]
  },
  {
   "cell_type": "code",
   "execution_count": 15,
   "id": "7f2a85e8",
   "metadata": {},
   "outputs": [],
   "source": [
    "arr = np.array([0.1,0.8,-2.2,-9.87])"
   ]
  },
  {
   "cell_type": "code",
   "execution_count": 16,
   "id": "64ede854",
   "metadata": {},
   "outputs": [
    {
     "data": {
      "text/plain": [
       "array([  0.,   0.,  -3., -10.])"
      ]
     },
     "execution_count": 16,
     "metadata": {},
     "output_type": "execute_result"
    }
   ],
   "source": [
    "np.floor(arr)#floor values #largest integer not greater than x."
   ]
  },
  {
   "cell_type": "code",
   "execution_count": 19,
   "id": "eb3d05d9",
   "metadata": {},
   "outputs": [
    {
     "data": {
      "text/plain": [
       "array([ 1.,  1., -2., -9.])"
      ]
     },
     "execution_count": 19,
     "metadata": {},
     "output_type": "execute_result"
    }
   ],
   "source": [
    "np.ceil(arr) # ceil values #Smallest integer not less than x."
   ]
  },
  {
   "cell_type": "code",
   "execution_count": 20,
   "id": "797434a9",
   "metadata": {},
   "outputs": [],
   "source": [
    "#indexing and slicing"
   ]
  },
  {
   "cell_type": "code",
   "execution_count": 3,
   "id": "151eb350",
   "metadata": {},
   "outputs": [],
   "source": [
    "arr1=np.array([1,2,3,4,5,6])\n",
    "arr2=np.array([[1,2,3],[4,5,6]])\n",
    "arr3=np.array([[[1,2,3],[4,5,6]],[[7,8,9],[10,11,12]]])"
   ]
  },
  {
   "cell_type": "code",
   "execution_count": 24,
   "id": "f4231168",
   "metadata": {},
   "outputs": [
    {
     "data": {
      "text/plain": [
       "4"
      ]
     },
     "execution_count": 24,
     "metadata": {},
     "output_type": "execute_result"
    }
   ],
   "source": [
    "arr1[-3] # it will return 4"
   ]
  },
  {
   "cell_type": "code",
   "execution_count": 26,
   "id": "d686eb76",
   "metadata": {},
   "outputs": [
    {
     "data": {
      "text/plain": [
       "6"
      ]
     },
     "execution_count": 26,
     "metadata": {},
     "output_type": "execute_result"
    }
   ],
   "source": [
    "arr3[0,1,2] #it prints 3rd element of the second row of the first element"
   ]
  },
  {
   "cell_type": "code",
   "execution_count": 28,
   "id": "49fc0fa0",
   "metadata": {},
   "outputs": [
    {
     "data": {
      "text/plain": [
       "9"
      ]
     },
     "execution_count": 28,
     "metadata": {},
     "output_type": "execute_result"
    }
   ],
   "source": [
    "arr3[1,0,-1]"
   ]
  },
  {
   "cell_type": "code",
   "execution_count": null,
   "id": "d6bc2f28",
   "metadata": {},
   "outputs": [],
   "source": [
    "#slicing arrays"
   ]
  },
  {
   "cell_type": "code",
   "execution_count": 5,
   "id": "6ca9b2b4",
   "metadata": {},
   "outputs": [
    {
     "data": {
      "text/plain": [
       "array([2, 3, 4, 5, 6])"
      ]
     },
     "execution_count": 5,
     "metadata": {},
     "output_type": "execute_result"
    }
   ],
   "source": [
    "arr1[1:]"
   ]
  },
  {
   "cell_type": "code",
   "execution_count": 6,
   "id": "eaa3b41f",
   "metadata": {},
   "outputs": [
    {
     "data": {
      "text/plain": [
       "array([4, 5])"
      ]
     },
     "execution_count": 6,
     "metadata": {},
     "output_type": "execute_result"
    }
   ],
   "source": [
    "arr1[-3:-1]"
   ]
  },
  {
   "cell_type": "code",
   "execution_count": 10,
   "id": "d4a3c395",
   "metadata": {},
   "outputs": [
    {
     "data": {
      "text/plain": [
       "array([5, 6])"
      ]
     },
     "execution_count": 10,
     "metadata": {},
     "output_type": "execute_result"
    }
   ],
   "source": [
    "arr2[1,1:]"
   ]
  },
  {
   "cell_type": "code",
   "execution_count": 11,
   "id": "d2707117",
   "metadata": {},
   "outputs": [
    {
     "data": {
      "text/plain": [
       "array([2, 3])"
      ]
     },
     "execution_count": 11,
     "metadata": {},
     "output_type": "execute_result"
    }
   ],
   "source": [
    "arr2[0,-2:]"
   ]
  },
  {
   "cell_type": "code",
   "execution_count": 12,
   "id": "990aee91",
   "metadata": {},
   "outputs": [
    {
     "data": {
      "text/plain": [
       "array([[5, 6]])"
      ]
     },
     "execution_count": 12,
     "metadata": {},
     "output_type": "execute_result"
    }
   ],
   "source": [
    "arr3[0,1:,1:]"
   ]
  },
  {
   "cell_type": "code",
   "execution_count": null,
   "id": "5f5eb599",
   "metadata": {},
   "outputs": [],
   "source": []
  }
 ],
 "metadata": {
  "kernelspec": {
   "display_name": "Python 3 (ipykernel)",
   "language": "python",
   "name": "python3"
  },
  "language_info": {
   "codemirror_mode": {
    "name": "ipython",
    "version": 3
   },
   "file_extension": ".py",
   "mimetype": "text/x-python",
   "name": "python",
   "nbconvert_exporter": "python",
   "pygments_lexer": "ipython3",
   "version": "3.9.12"
  }
 },
 "nbformat": 4,
 "nbformat_minor": 5
}
