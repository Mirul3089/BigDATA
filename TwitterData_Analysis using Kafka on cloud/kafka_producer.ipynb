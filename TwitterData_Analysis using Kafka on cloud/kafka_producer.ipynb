{
 "cells": [
  {
   "cell_type": "code",
   "execution_count": 1,
   "id": "eb6a7508",
   "metadata": {},
   "outputs": [],
   "source": [
    "import pandas as pd\n",
    "from kafka import KafkaProducer\n",
    "from time import sleep\n",
    "from json import dumps\n",
    "import json"
   ]
  },
  {
   "cell_type": "code",
   "execution_count": 2,
   "id": "b774c8f0",
   "metadata": {},
   "outputs": [],
   "source": [
    "producer = KafkaProducer(bootstrap_servers=['35.182.158.121:9092'],\n",
    "                         value_serializer=lambda x: \n",
    "                         dumps(x).encode('utf-8'))"
   ]
  },
  {
   "cell_type": "code",
   "execution_count": 41,
   "id": "417f04f1",
   "metadata": {
    "collapsed": true
   },
   "outputs": [
    {
     "ename": "KeyboardInterrupt",
     "evalue": "",
     "output_type": "error",
     "traceback": [
      "\u001b[1;31m---------------------------------------------------------------------------\u001b[0m",
      "\u001b[1;31mKeyboardInterrupt\u001b[0m                         Traceback (most recent call last)",
      "Input \u001b[1;32mIn [41]\u001b[0m, in \u001b[0;36m<cell line: 25>\u001b[1;34m()\u001b[0m\n\u001b[0;32m     27\u001b[0m refined_tweet \u001b[38;5;241m=\u001b[39m {\u001b[38;5;124m'\u001b[39m\u001b[38;5;124musername\u001b[39m\u001b[38;5;124m'\u001b[39m: tweet\u001b[38;5;241m.\u001b[39muser\u001b[38;5;241m.\u001b[39mscreen_name,\n\u001b[0;32m     28\u001b[0m                    \u001b[38;5;124m'\u001b[39m\u001b[38;5;124mdescription\u001b[39m\u001b[38;5;124m'\u001b[39m: tweet\u001b[38;5;241m.\u001b[39muser\u001b[38;5;241m.\u001b[39mdescription,\n\u001b[0;32m     29\u001b[0m                    \u001b[38;5;124m'\u001b[39m\u001b[38;5;124mlocation\u001b[39m\u001b[38;5;124m'\u001b[39m:tweet\u001b[38;5;241m.\u001b[39muser\u001b[38;5;241m.\u001b[39mlocation,\n\u001b[0;32m     30\u001b[0m                     \u001b[38;5;124m'\u001b[39m\u001b[38;5;124mhashtags\u001b[39m\u001b[38;5;124m'\u001b[39m : tweet\u001b[38;5;241m.\u001b[39mentities[\u001b[38;5;124m'\u001b[39m\u001b[38;5;124mhashtags\u001b[39m\u001b[38;5;124m'\u001b[39m]}\n\u001b[0;32m     31\u001b[0m tweet_list\u001b[38;5;241m.\u001b[39mappend(refined_tweet)\n\u001b[1;32m---> 32\u001b[0m \u001b[43msleep\u001b[49m\u001b[43m(\u001b[49m\u001b[38;5;241;43m1\u001b[39;49m\u001b[43m)\u001b[49m\n",
      "\u001b[1;31mKeyboardInterrupt\u001b[0m: "
     ]
    }
   ],
   "source": [
    "from os import access\n",
    "import tweepy\n",
    "import pandas as pd\n",
    "import json\n",
    "from datetime import datetime\n",
    "import s3fs\n",
    "from pathlib import Path\n",
    "\n",
    "access_key = \"\"\n",
    "access_secret = \"\"\n",
    "consumer_key = \"\"\n",
    "consumer_secret = \"\"\n",
    "\n",
    "\n",
    "auth = tweepy.OAuthHandler(access_key, access_secret)\n",
    "auth.set_access_token(consumer_key, consumer_secret)\n",
    "\n",
    "api = tweepy.API(auth)\n",
    "\n",
    "tweets = tweepy.Cursor(api.search_tweets,\n",
    "                               '#FifaWorldCup2022', lang=\"en\",\n",
    "                               since_id=2022-10-24,\n",
    "                               tweet_mode='extended').items(1000)\n",
    "tweet_list = []\n",
    "for tweet in tweets:\n",
    "\n",
    "        refined_tweet = {'username': tweet.user.screen_name,\n",
    "                           'description': tweet.user.description,\n",
    "                           'location':tweet.user.location,\n",
    "                            'hashtags' : tweet.entities['hashtags']}\n",
    "        tweet_list.append(refined_tweet)\n",
    "        sleep(1)"
   ]
  },
  {
   "cell_type": "code",
   "execution_count": 40,
   "id": "5d96207b",
   "metadata": {},
   "outputs": [
    {
     "data": {
      "text/plain": [
       "<kafka.producer.future.FutureRecordMetadata at 0x18481364af0>"
      ]
     },
     "execution_count": 40,
     "metadata": {},
     "output_type": "execute_result"
    }
   ],
   "source": [
    "producer.send('tweetsdata', value =tweet_list)"
   ]
  },
  {
   "cell_type": "code",
   "execution_count": 37,
   "id": "e927cd2e",
   "metadata": {},
   "outputs": [],
   "source": [
    "producer.flush()"
   ]
  },
  {
   "cell_type": "code",
   "execution_count": null,
   "id": "5f543a65",
   "metadata": {},
   "outputs": [],
   "source": [
    "#to generate any csv files to streaming data\n",
    "#df = pd.read_csv('Desktop/stock_market.csv')\n",
    "#while True:\n",
    "   # stock_json = df.sample(1).to_dict(orient=\"records\")[0]\n",
    "    #producer.send('stocks_s', value =stock_json)\n",
    "    #sleep(1)"
   ]
  }
 ],
 "metadata": {
  "kernelspec": {
   "display_name": "Python 3 (ipykernel)",
   "language": "python",
   "name": "python3"
  },
  "language_info": {
   "codemirror_mode": {
    "name": "ipython",
    "version": 3
   },
   "file_extension": ".py",
   "mimetype": "text/x-python",
   "name": "python",
   "nbconvert_exporter": "python",
   "pygments_lexer": "ipython3",
   "version": "3.9.12"
  }
 },
 "nbformat": 4,
 "nbformat_minor": 5
}
