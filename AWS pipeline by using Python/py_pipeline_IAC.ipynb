{
 "cells": [
  {
   "cell_type": "code",
   "execution_count": 1,
   "id": "3955380a",
   "metadata": {},
   "outputs": [],
   "source": [
    "import boto3\n",
    "import pandas as pd\n",
    "import psycopg2 #for redshift port\n",
    "import json"
   ]
  },
  {
   "cell_type": "code",
   "execution_count": 2,
   "id": "aeff9245",
   "metadata": {},
   "outputs": [],
   "source": [
    "import configparser\n",
    "config = configparser.ConfigParser()\n",
    "config.read_file(open('Desktop\\semester 4\\capstoneproject\\cluster.config'))"
   ]
  },
  {
   "cell_type": "code",
   "execution_count": 3,
   "id": "c62d6fc9",
   "metadata": {},
   "outputs": [
    {
     "data": {
      "text/plain": [
       "('awsuser', 'Password123', 'mydb')"
      ]
     },
     "execution_count": 3,
     "metadata": {},
     "output_type": "execute_result"
    }
   ],
   "source": [
    "KEY=              config.get(\"AWS\",\"KEY\")    \n",
    "SECRET=           config.get(\"AWS\",\"SECRET\")\n",
    "\n",
    "DWH_CLUSTER_TYPE= config.get(\"DWH\",\"DWH_CLUSTER_TYPE\")\n",
    "DWH_NUM_NODES=    config.get(\"DWH\",\"DWH_NUM_NODES\")\n",
    "DWH_NODE_TYPE=    config.get(\"DWH\",\"DWH_NODE_TYPE\")\n",
    "\n",
    "DWH_CLUSTER_INDENTIFIER= config.get(\"DWH\",\"DWH_CLUSTER_INDENTIFIER\")\n",
    "DWH_DB=         config.get(\"DWH\",\"DWH_DB\")\n",
    "DWH_DB_USER=    config.get(\"DWH\",\"DWH_DB_USER\")\n",
    "DWH_DB_PASSWORD=config.get(\"DWH\",\"DWH_DB_PASSWORD\")\n",
    "DWH_PORT=       config.get(\"DWH\",\"DWH_PORT\")\n",
    "\n",
    "DWH_IAM_ROLE_NAME= config.get(\"DWH\",\"DWH_IAM_ROLE_NAME\")\n",
    "\n",
    "(DWH_DB_USER,DWH_DB_PASSWORD,DWH_DB)"
   ]
  },
  {
   "cell_type": "code",
   "execution_count": 4,
   "id": "33cf1dd0",
   "metadata": {},
   "outputs": [],
   "source": [
    "ec2=boto3.resource('ec2',\n",
    "                   region_name=\"ca-central-1\",\n",
    "                   aws_access_key_id=KEY,\n",
    "                   aws_secret_access_key=SECRET\n",
    "                  )\n",
    "\n",
    "s3=boto3.resource('s3',\n",
    "                   region_name=\"ca-central-1\",\n",
    "                   aws_access_key_id=KEY,\n",
    "                   aws_secret_access_key=SECRET\n",
    "                  )\n",
    "\n",
    "iam=boto3.client('iam',\n",
    "                   region_name=\"ca-central-1\",\n",
    "                   aws_access_key_id=KEY,\n",
    "                   aws_secret_access_key=SECRET\n",
    "                  )\n",
    "\n",
    "redshift=boto3.client('redshift',\n",
    "                   region_name=\"ca-central-1\",\n",
    "                   aws_access_key_id=KEY,\n",
    "                   aws_secret_access_key=SECRET\n",
    "                  )"
   ]
  },
  {
   "cell_type": "code",
   "execution_count": 5,
   "id": "b9478432",
   "metadata": {},
   "outputs": [
    {
     "data": {
      "text/plain": [
       "['allevents_pipe.txt',\n",
       " 'allusers_pipe.txt',\n",
       " 'category_pipe.txt',\n",
       " 'date2008_pipe.txt',\n",
       " 'listings_pipe.txt',\n",
       " 'sales_tab.txt',\n",
       " 'venue_pipe.txt']"
      ]
     },
     "execution_count": 5,
     "metadata": {},
     "output_type": "execute_result"
    }
   ],
   "source": [
    "bucket=s3.Bucket(\"pypipe\")\n",
    "log_files=[filename.key for filename in bucket.objects.filter(Prefix='')]\n",
    "log_files"
   ]
  },
  {
   "cell_type": "code",
   "execution_count": 6,
   "id": "2b596bc1",
   "metadata": {},
   "outputs": [
    {
     "data": {
      "text/plain": [
       "'arn:aws:iam::008925947455:role/redhift_s3'"
      ]
     },
     "execution_count": 6,
     "metadata": {},
     "output_type": "execute_result"
    }
   ],
   "source": [
    "roleArn= iam.get_role(RoleName=DWH_IAM_ROLE_NAME)['Role']['Arn']\n",
    "roleArn"
   ]
  },
  {
   "cell_type": "code",
   "execution_count": 7,
   "id": "54ed2f50",
   "metadata": {},
   "outputs": [],
   "source": [
    "#creating redshift cluster\n",
    "try:\n",
    "    response = redshift.create_cluster(\n",
    "    ClusterType=DWH_CLUSTER_TYPE,\n",
    "    NodeType=DWH_NODE_TYPE,\n",
    "        \n",
    "    DBName=DWH_DB,\n",
    "    ClusterIdentifier=DWH_CLUSTER_INDENTIFIER,\n",
    "    MasterUsername=DWH_DB_USER,\n",
    "    MasterUserPassword=DWH_DB_PASSWORD,\n",
    "        \n",
    "    IamRoles=[roleArn]\n",
    "    )\n",
    "except Exception as e:\n",
    "    print(e)"
   ]
  },
  {
   "cell_type": "code",
   "execution_count": 12,
   "id": "a4f042eb",
   "metadata": {},
   "outputs": [
    {
     "data": {
      "text/plain": [
       "{'Clusters': [{'ClusterIdentifier': 'my-first-redshift',\n",
       "   'NodeType': 'dc2.large',\n",
       "   'ClusterStatus': 'available',\n",
       "   'ClusterAvailabilityStatus': 'Available',\n",
       "   'MasterUsername': 'awsuser',\n",
       "   'DBName': 'mydb',\n",
       "   'Endpoint': {'Address': 'my-first-redshift.cmznl1jdfzkp.ca-central-1.redshift.amazonaws.com',\n",
       "    'Port': 5439},\n",
       "   'ClusterCreateTime': datetime.datetime(2023, 2, 21, 23, 2, 9, 42000, tzinfo=tzutc()),\n",
       "   'AutomatedSnapshotRetentionPeriod': 1,\n",
       "   'ManualSnapshotRetentionPeriod': -1,\n",
       "   'ClusterSecurityGroups': [],\n",
       "   'VpcSecurityGroups': [{'VpcSecurityGroupId': 'sg-0333cc4e835a66dab',\n",
       "     'Status': 'active'}],\n",
       "   'ClusterParameterGroups': [{'ParameterGroupName': 'default.redshift-1.0',\n",
       "     'ParameterApplyStatus': 'in-sync'}],\n",
       "   'ClusterSubnetGroupName': 'default',\n",
       "   'VpcId': 'vpc-054afb094c646333c',\n",
       "   'AvailabilityZone': 'ca-central-1b',\n",
       "   'PreferredMaintenanceWindow': 'sun:16:30-sun:17:00',\n",
       "   'PendingModifiedValues': {},\n",
       "   'ClusterVersion': '1.0',\n",
       "   'AllowVersionUpgrade': True,\n",
       "   'NumberOfNodes': 1,\n",
       "   'PubliclyAccessible': True,\n",
       "   'Encrypted': False,\n",
       "   'ClusterPublicKey': 'ssh-rsa AAAAB3NzaC1yc2EAAAADAQABAAABAQCOBTrhGzwsSm6dt3r+b4xWOizJjBMncI9xum3p3FDPXo6lGSsHlUDf2I4oEjDSYSEsVC4VP5806f3WPIujJuwZktODoSLHDpBu8ZX1iWhGC8DlO5Idtu8OkECrV/p70gR91Naqu9wJ9rEgLp4xrLhvpK984aXpJboAqsKGxfw9kzH2qX9jQAjYDgKaiCx6czwuWzvNXtYHWWXA8o9DImOOitnM4c0ZQtSq5NCQpvtBvJVMiTDlowGhobcYDiSJxsunxXgS7755Bl2zdeZsTAcfOT7Q9YRbTBtBsyAJlt0i4p9dus3fX7SqUINVNTMYVcUt2g3VMjFTjMS+0N29unOD Amazon-Redshift\\n',\n",
       "   'ClusterNodes': [{'NodeRole': 'SHARED',\n",
       "     'PrivateIPAddress': '172.31.11.37',\n",
       "     'PublicIPAddress': '3.97.191.216'}],\n",
       "   'ClusterRevisionNumber': '46806',\n",
       "   'Tags': [],\n",
       "   'EnhancedVpcRouting': False,\n",
       "   'IamRoles': [{'IamRoleArn': 'arn:aws:iam::008925947455:role/redhift_s3',\n",
       "     'ApplyStatus': 'in-sync'}],\n",
       "   'MaintenanceTrackName': 'current',\n",
       "   'DeferredMaintenanceWindows': [],\n",
       "   'NextMaintenanceWindowStartTime': datetime.datetime(2023, 2, 26, 16, 30, tzinfo=tzutc()),\n",
       "   'AvailabilityZoneRelocationStatus': 'disabled',\n",
       "   'ClusterNamespaceArn': 'arn:aws:redshift:ca-central-1:008925947455:namespace:b5ff5a66-a792-4b75-91fc-036e21c0d660',\n",
       "   'TotalStorageCapacityInMegaBytes': 400000,\n",
       "   'AquaConfiguration': {'AquaStatus': 'disabled',\n",
       "    'AquaConfigurationStatus': 'auto'}}],\n",
       " 'ResponseMetadata': {'RequestId': '22d9ff81-613d-4c6d-90d6-db8e2a1fd98e',\n",
       "  'HTTPStatusCode': 200,\n",
       "  'HTTPHeaders': {'x-amzn-requestid': '22d9ff81-613d-4c6d-90d6-db8e2a1fd98e',\n",
       "   'content-type': 'text/xml',\n",
       "   'content-length': '4048',\n",
       "   'date': 'Tue, 21 Feb 2023 23:09:04 GMT'},\n",
       "  'RetryAttempts': 0}}"
      ]
     },
     "execution_count": 12,
     "metadata": {},
     "output_type": "execute_result"
    }
   ],
   "source": [
    "redshift.describe_clusters(ClusterIdentifier=DWH_CLUSTER_INDENTIFIER)"
   ]
  },
  {
   "cell_type": "code",
   "execution_count": 13,
   "id": "1a776f82",
   "metadata": {},
   "outputs": [
    {
     "name": "stderr",
     "output_type": "stream",
     "text": [
      "C:\\Users\\Mirul\\AppData\\Local\\Temp\\ipykernel_18092\\415864532.py:2: FutureWarning: Passing a negative integer is deprecated in version 1.0 and will not be supported in future version. Instead, use None to not limit the column width.\n",
      "  pd.set_option('display.max_colwidth',-1)\n"
     ]
    },
    {
     "data": {
      "text/html": [
       "<div>\n",
       "<style scoped>\n",
       "    .dataframe tbody tr th:only-of-type {\n",
       "        vertical-align: middle;\n",
       "    }\n",
       "\n",
       "    .dataframe tbody tr th {\n",
       "        vertical-align: top;\n",
       "    }\n",
       "\n",
       "    .dataframe thead th {\n",
       "        text-align: right;\n",
       "    }\n",
       "</style>\n",
       "<table border=\"1\" class=\"dataframe\">\n",
       "  <thead>\n",
       "    <tr style=\"text-align: right;\">\n",
       "      <th></th>\n",
       "      <th>key</th>\n",
       "      <th>Value</th>\n",
       "    </tr>\n",
       "  </thead>\n",
       "  <tbody>\n",
       "    <tr>\n",
       "      <th>0</th>\n",
       "      <td>ClusterIdentifier</td>\n",
       "      <td>my-first-redshift</td>\n",
       "    </tr>\n",
       "    <tr>\n",
       "      <th>1</th>\n",
       "      <td>NodeType</td>\n",
       "      <td>dc2.large</td>\n",
       "    </tr>\n",
       "    <tr>\n",
       "      <th>2</th>\n",
       "      <td>ClusterStatus</td>\n",
       "      <td>available</td>\n",
       "    </tr>\n",
       "    <tr>\n",
       "      <th>3</th>\n",
       "      <td>MasterUsername</td>\n",
       "      <td>awsuser</td>\n",
       "    </tr>\n",
       "    <tr>\n",
       "      <th>4</th>\n",
       "      <td>DBName</td>\n",
       "      <td>mydb</td>\n",
       "    </tr>\n",
       "    <tr>\n",
       "      <th>5</th>\n",
       "      <td>Endpoint</td>\n",
       "      <td>{'Address': 'my-first-redshift.cmznl1jdfzkp.ca-central-1.redshift.amazonaws.com', 'Port': 5439}</td>\n",
       "    </tr>\n",
       "    <tr>\n",
       "      <th>6</th>\n",
       "      <td>VpcId</td>\n",
       "      <td>vpc-054afb094c646333c</td>\n",
       "    </tr>\n",
       "  </tbody>\n",
       "</table>\n",
       "</div>"
      ],
      "text/plain": [
       "                 key  \\\n",
       "0  ClusterIdentifier   \n",
       "1  NodeType            \n",
       "2  ClusterStatus       \n",
       "3  MasterUsername      \n",
       "4  DBName              \n",
       "5  Endpoint            \n",
       "6  VpcId               \n",
       "\n",
       "                                                                                             Value  \n",
       "0  my-first-redshift                                                                                \n",
       "1  dc2.large                                                                                        \n",
       "2  available                                                                                        \n",
       "3  awsuser                                                                                          \n",
       "4  mydb                                                                                             \n",
       "5  {'Address': 'my-first-redshift.cmznl1jdfzkp.ca-central-1.redshift.amazonaws.com', 'Port': 5439}  \n",
       "6  vpc-054afb094c646333c                                                                            "
      ]
     },
     "execution_count": 13,
     "metadata": {},
     "output_type": "execute_result"
    }
   ],
   "source": [
    "def prettyRedShiftProps(props):\n",
    "    pd.set_option('display.max_colwidth',-1)\n",
    "    keysToShow = [\"ClusterIdentifier\",\"NodeType\",\"ClusterStatus\",\"MasterUsername\",\"DBName\",\"Endpoint\",'VpcId']\n",
    "    x = [(k, v) for k,v in props.items() if k in keysToShow]\n",
    "    return pd.DataFrame(data=x,columns=[\"key\",\"Value\"])\n",
    "myClusterProps = redshift.describe_clusters(ClusterIdentifier=DWH_CLUSTER_INDENTIFIER)['Clusters'][0]\n",
    "prettyRedShiftProps(myClusterProps)"
   ]
  },
  {
   "cell_type": "code",
   "execution_count": 14,
   "id": "c40b8bc8",
   "metadata": {},
   "outputs": [],
   "source": [
    "DWH_ENDPOINT = myClusterProps['Endpoint']['Address']\n",
    "DWH_ROLE_ARN = myClusterProps['IamRoles'][0]['IamRoleArn']\n",
    "DB_NAME = myClusterProps['DBName']\n",
    "DB_USER = myClusterProps['MasterUsername']"
   ]
  },
  {
   "cell_type": "code",
   "execution_count": 15,
   "id": "05ff3d8f",
   "metadata": {},
   "outputs": [
    {
     "name": "stdout",
     "output_type": "stream",
     "text": [
      "ec2.SecurityGroup(id='sg-01075f86b4ee96aaf')\n",
      "An error occurred (InvalidPermission.Duplicate) when calling the AuthorizeSecurityGroupIngress operation: the specified rule \"peer: 0.0.0.0/0, TCP, from port: 5439, to port: 5439, ALLOW\" already exists\n"
     ]
    }
   ],
   "source": [
    "try:\n",
    "    vpc=ec2.Vpc(id=myClusterProps['VpcId'])\n",
    "    defaultSg = list(vpc.security_groups.all())[0]\n",
    "    print(defaultSg)\n",
    "    \n",
    "    #authorizing all incoming traffic\n",
    "    defaultSg.authorize_ingress(\n",
    "        GroupName=defaultSg.group_name,\n",
    "        CidrIp='0.0.0.0/0',\n",
    "        IpProtocol='TCP',\n",
    "        FromPort=int(DWH_PORT),\n",
    "        ToPort=int(DWH_PORT)\n",
    "    )\n",
    "except Exception as e:\n",
    "    print(e)"
   ]
  },
  {
   "cell_type": "code",
   "execution_count": 16,
   "id": "f0603c21",
   "metadata": {},
   "outputs": [],
   "source": [
    "try:\n",
    "    con= psycopg2.connect(host=DWH_ENDPOINT,dbname=DB_NAME,user=DB_USER,password=\"Password123\",port=5439)\n",
    "except psycopg2.Error as e:\n",
    "    print(\"Error: Could not make connection to the database\")\n",
    "    print(e)\n",
    "        \n",
    "con.set_session(autocommit=True)"
   ]
  },
  {
   "cell_type": "code",
   "execution_count": 17,
   "id": "aa5cd389",
   "metadata": {},
   "outputs": [],
   "source": [
    "try:\n",
    "    cur=con.cursor()\n",
    "except psycopg2.Error as e:\n",
    "    print(\"Error: Coul not get cursor to the database\")\n",
    "    print(e)"
   ]
  },
  {
   "cell_type": "code",
   "execution_count": 18,
   "id": "606196f2",
   "metadata": {},
   "outputs": [],
   "source": [
    "#sortkey divides the data by some range for query optimization\n",
    "#dist key has three types dist key for large fact tables\n",
    "#Distribution all(distribute whole table  in all nodes) for medium dimensions\n",
    "#Distribution even (distribute evenly)\n",
    "try:\n",
    "    cur.execute(\"\"\"create table users(\n",
    "    userid integer not null distkey sortkey,\n",
    "    username char(8),\n",
    "    firstname varchar(30),\n",
    "    lastname varchar(30),\n",
    "    city varchar(30),\n",
    "    state char(2),\n",
    "    email varchar(100),\n",
    "    phone char(14),\n",
    "    likesports boolean,\n",
    "    liketheatre boolean,\n",
    "    likeconcerts boolean,\n",
    "    likejazz boolean,\n",
    "    likeclassical boolean,\n",
    "    likeopera boolean,\n",
    "    likerock boolean,\n",
    "    likevegas boolean,\n",
    "    likebroadway boolean,\n",
    "    likemusicals boolean\n",
    "    );\"\"\")\n",
    "except psycopg2.Error as e:\n",
    "    print(\"Error: Issue creating table\")\n",
    "    print(e)"
   ]
  },
  {
   "cell_type": "code",
   "execution_count": 20,
   "id": "a21acb1b",
   "metadata": {},
   "outputs": [],
   "source": [
    "try:\n",
    "    cur.execute(\"\"\"create table venue(\n",
    "    venueid smallint not null distkey sortkey,\n",
    "    venuename varchar(100),\n",
    "    venuecity varchar(30),\n",
    "    venuestate char(2),\n",
    "    venueseats integer\n",
    "    );\"\"\")\n",
    "except psycopg2.Error as e:\n",
    "    print(\"Error: Issue creating table\")\n",
    "    print(e)"
   ]
  },
  {
   "cell_type": "code",
   "execution_count": 22,
   "id": "4d6f8514",
   "metadata": {},
   "outputs": [],
   "source": [
    "try:\n",
    "    cur.execute(\"\"\"create table category(\n",
    "    catid smallint not null distkey sortkey,\n",
    "    catgroup varchar(10),\n",
    "    catrname varchar(10),\n",
    "    catdesc varchar(50)\n",
    "    );\n",
    "    \n",
    "    create table date(\n",
    "    dateid smallint not null distkey sortkey,\n",
    "    caldate date not null,\n",
    "    day character(3) not null,\n",
    "    week smallint not null,\n",
    "    month character(5) not null,\n",
    "    qtr character(5) not null,\n",
    "    year smallint not null,\n",
    "    holiday boolean default('N')\n",
    "    );\n",
    "    \n",
    "    create table event(\n",
    "    eventid integer not null distkey,\n",
    "    venueid smallint not null,\n",
    "    catid smallint not null,\n",
    "    dateid smallint not null sortkey,\n",
    "    eventname varchar(200),\n",
    "    starttime timestamp\n",
    "    );\n",
    "    \n",
    "    create table listing(\n",
    "    listid integer not null distkey,\n",
    "    sellerid integer not null,\n",
    "    eventid integer not null,\n",
    "    dateid smallint not null sortkey,\n",
    "    numtickets smallint not null,\n",
    "    priceperticket decimal(8,2),\n",
    "    totalprice decimal(8,2),\n",
    "    listtime timestamp\n",
    "    );\n",
    "    \n",
    "    \"\"\")\n",
    "except psycopg2.Error as e:\n",
    "    print(\"Error: Issue creating table\")\n",
    "    print(e)"
   ]
  },
  {
   "cell_type": "code",
   "execution_count": 24,
   "id": "74d958a7",
   "metadata": {},
   "outputs": [],
   "source": [
    "#copy command to copy data from s3 to redshift table\n",
    "try:\n",
    "    cur.execute(\"\"\"\n",
    "    copy users from 's3://pypipe/allusers_pipe.txt'\n",
    "    credentials 'aws_iam_role=arn:aws:iam::008925947455:role/redhift_s3'\n",
    "    delimiter '|'\n",
    "    region 'ca-central-1'\n",
    "    \"\"\")\n",
    "except psycopg2.Error as e:\n",
    "    print(\"Error: Issue copying table\")\n",
    "    print(e)"
   ]
  },
  {
   "cell_type": "code",
   "execution_count": 27,
   "id": "fc7474a8",
   "metadata": {},
   "outputs": [],
   "source": [
    "#copy command to copy data from s3 to redshift table\n",
    "try:\n",
    "    cur.execute(\"\"\"\n",
    "    copy venue from 's3://pypipe/venue_pipe.txt'\n",
    "    credentials 'aws_iam_role=arn:aws:iam::008925947455:role/redhift_s3'\n",
    "    delimiter '|'\n",
    "    region 'ca-central-1'    \n",
    "    \"\"\")\n",
    "    \n",
    "except psycopg2.Error as e:\n",
    "    print(\"Error: Issue copying table\")\n",
    "    print(e)"
   ]
  },
  {
   "cell_type": "code",
   "execution_count": 28,
   "id": "d6fb60ea",
   "metadata": {},
   "outputs": [],
   "source": [
    "#copy command to copy data from s3 to redshift table\n",
    "try:\n",
    "    cur.execute(\"\"\" \n",
    "    copy category from 's3://pypipe/category_pipe.txt'\n",
    "    credentials 'aws_iam_role=arn:aws:iam::008925947455:role/redhift_s3'\n",
    "    delimiter '|'\n",
    "    region 'ca-central-1'\n",
    "    \n",
    "    \"\"\")\n",
    "    \n",
    "except psycopg2.Error as e:\n",
    "    print(\"Error: Issue copying table\")\n",
    "    print(e)\n"
   ]
  },
  {
   "cell_type": "code",
   "execution_count": 29,
   "id": "4a7985e1",
   "metadata": {},
   "outputs": [],
   "source": [
    "#copy command to copy data from s3 to redshift table\n",
    "try:\n",
    "    cur.execute(\"\"\" \n",
    "    \n",
    "    copy date from 's3://pypipe/date2008_pipe.txt'\n",
    "    credentials 'aws_iam_role=arn:aws:iam::008925947455:role/redhift_s3'\n",
    "    delimiter '|'\n",
    "    region 'ca-central-1'\n",
    "    \n",
    "    \"\"\")\n",
    "    \n",
    "except psycopg2.Error as e:\n",
    "    print(\"Error: Issue copying table\")\n",
    "    print(e)"
   ]
  },
  {
   "cell_type": "code",
   "execution_count": 30,
   "id": "e6f3e35b",
   "metadata": {},
   "outputs": [],
   "source": [
    "#copy command to copy data from s3 to redshift table\n",
    "try:\n",
    "    cur.execute(\"\"\" \n",
    "    \n",
    "    copy event from 's3://pypipe/allevents_pipe.txt'\n",
    "    credentials 'aws_iam_role=arn:aws:iam::008925947455:role/redhift_s3'\n",
    "    delimiter '|'\n",
    "    region 'ca-central-1'\n",
    "    \"\"\")\n",
    "    \n",
    "except psycopg2.Error as e:\n",
    "    print(\"Error: Issue copying table\")\n",
    "    print(e)"
   ]
  },
  {
   "cell_type": "code",
   "execution_count": 32,
   "id": "72a6ddb5",
   "metadata": {},
   "outputs": [],
   "source": [
    "#copy command to copy data from s3 to redshift table\n",
    "try:\n",
    "    cur.execute(\"\"\" \n",
    "    copy listing from 's3://pypipe/listings_pipe.txt'\n",
    "    credentials 'aws_iam_role=arn:aws:iam::008925947455:role/redhift_s3'\n",
    "    delimiter '|'\n",
    "    region 'ca-central-1'\n",
    "    \"\"\")\n",
    "    \n",
    "except psycopg2.Error as e:\n",
    "    print(\"Error: Issue copying table\")\n",
    "    print(e)"
   ]
  },
  {
   "cell_type": "code",
   "execution_count": 36,
   "id": "12ecd805",
   "metadata": {},
   "outputs": [
    {
     "name": "stdout",
     "output_type": "stream",
     "text": [
      "(2, 'PGL08LJI', 'Vladimir', 'Humphrey', 'Murfreesboro', 'SK', 'Suspendisse.tristique@nonnisiAenean.edu', '(783) 492-1886', None, None, None, True, True, None, None, True, False, True)\n"
     ]
    }
   ],
   "source": [
    "#copy command to copy data from s3 to redshift table\n",
    "try:\n",
    "    cur.execute(\"\"\" \n",
    "    select * from users;\n",
    "    \"\"\")\n",
    "    row=cur.fetchone()\n",
    "    while row:\n",
    "        print(row)\n",
    "        row=cur.fetchone()\n",
    "        break\n",
    "except psycopg2.Error as e:\n",
    "    print(\"Error: Issue copying table\")\n",
    "    print(e)"
   ]
  },
  {
   "cell_type": "code",
   "execution_count": 37,
   "id": "26d6ec09",
   "metadata": {},
   "outputs": [],
   "source": [
    "try:\n",
    "    con.close()\n",
    "except psycopg2.Error as e:\n",
    "    print(\"Error: Could not make connection to the database\")\n",
    "    print(e)"
   ]
  },
  {
   "cell_type": "code",
   "execution_count": 39,
   "id": "481b7523",
   "metadata": {},
   "outputs": [
    {
     "data": {
      "text/plain": [
       "{'Cluster': {'ClusterIdentifier': 'my-first-redshift',\n",
       "  'NodeType': 'dc2.large',\n",
       "  'ClusterStatus': 'deleting',\n",
       "  'ClusterAvailabilityStatus': 'Modifying',\n",
       "  'MasterUsername': 'awsuser',\n",
       "  'DBName': 'mydb',\n",
       "  'Endpoint': {'Address': 'my-first-redshift.cmznl1jdfzkp.ca-central-1.redshift.amazonaws.com',\n",
       "   'Port': 5439},\n",
       "  'ClusterCreateTime': datetime.datetime(2023, 2, 21, 23, 2, 9, 42000, tzinfo=tzutc()),\n",
       "  'AutomatedSnapshotRetentionPeriod': 1,\n",
       "  'ManualSnapshotRetentionPeriod': -1,\n",
       "  'ClusterSecurityGroups': [],\n",
       "  'VpcSecurityGroups': [{'VpcSecurityGroupId': 'sg-0333cc4e835a66dab',\n",
       "    'Status': 'active'}],\n",
       "  'ClusterParameterGroups': [{'ParameterGroupName': 'default.redshift-1.0',\n",
       "    'ParameterApplyStatus': 'in-sync'}],\n",
       "  'ClusterSubnetGroupName': 'default',\n",
       "  'VpcId': 'vpc-054afb094c646333c',\n",
       "  'AvailabilityZone': 'ca-central-1b',\n",
       "  'PreferredMaintenanceWindow': 'sun:16:30-sun:17:00',\n",
       "  'PendingModifiedValues': {},\n",
       "  'ClusterVersion': '1.0',\n",
       "  'AllowVersionUpgrade': True,\n",
       "  'NumberOfNodes': 1,\n",
       "  'PubliclyAccessible': True,\n",
       "  'Encrypted': False,\n",
       "  'Tags': [],\n",
       "  'EnhancedVpcRouting': False,\n",
       "  'IamRoles': [{'IamRoleArn': 'arn:aws:iam::008925947455:role/redhift_s3',\n",
       "    'ApplyStatus': 'in-sync'}],\n",
       "  'MaintenanceTrackName': 'current',\n",
       "  'DeferredMaintenanceWindows': [],\n",
       "  'NextMaintenanceWindowStartTime': datetime.datetime(2023, 2, 26, 16, 30, tzinfo=tzutc()),\n",
       "  'TotalStorageCapacityInMegaBytes': 400000,\n",
       "  'AquaConfiguration': {'AquaStatus': 'disabled',\n",
       "   'AquaConfigurationStatus': 'auto'}},\n",
       " 'ResponseMetadata': {'RequestId': '61901fe1-f862-4b6a-a41d-320c36a02763',\n",
       "  'HTTPStatusCode': 200,\n",
       "  'HTTPHeaders': {'x-amzn-requestid': '61901fe1-f862-4b6a-a41d-320c36a02763',\n",
       "   'content-type': 'text/xml',\n",
       "   'content-length': '2735',\n",
       "   'date': 'Wed, 22 Feb 2023 00:40:08 GMT'},\n",
       "  'RetryAttempts': 0}}"
      ]
     },
     "execution_count": 39,
     "metadata": {},
     "output_type": "execute_result"
    }
   ],
   "source": [
    "redshift.delete_cluster(ClusterIdentifier=DWH_CLUSTER_INDENTIFIER, SkipFinalClusterSnapshot=True)"
   ]
  },
  {
   "cell_type": "code",
   "execution_count": null,
   "id": "86fdbe1b",
   "metadata": {},
   "outputs": [],
   "source": [
    "#connected redshift cluster to Amazon Quicksight and performed visualizations "
   ]
  }
 ],
 "metadata": {
  "kernelspec": {
   "display_name": "Python 3 (ipykernel)",
   "language": "python",
   "name": "python3"
  },
  "language_info": {
   "codemirror_mode": {
    "name": "ipython",
    "version": 3
   },
   "file_extension": ".py",
   "mimetype": "text/x-python",
   "name": "python",
   "nbconvert_exporter": "python",
   "pygments_lexer": "ipython3",
   "version": "3.9.12"
  }
 },
 "nbformat": 4,
 "nbformat_minor": 5
}
